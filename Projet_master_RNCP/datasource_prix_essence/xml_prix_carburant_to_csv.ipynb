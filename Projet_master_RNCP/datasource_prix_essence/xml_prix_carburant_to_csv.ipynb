{
 "cells": [
  {
   "cell_type": "code",
   "execution_count": 18,
   "id": "6026123f-3c0f-428f-8263-cf15f91a1cc2",
   "metadata": {},
   "outputs": [
    {
     "name": "stdout",
     "output_type": "stream",
     "text": [
      "<Response [200]>\n",
      "PrixCarburants_annuel_2022.xml\n",
      "PrixCarburants_annuel_2022.xml extracted\n"
     ]
    }
   ],
   "source": [
    "import requests\n",
    "from pprint import pprint\n",
    "import pandas as pd\n",
    "import zipfile\n",
    "import io\n",
    "import json\n",
    "import os\n",
    "os.makedirs(\"results/inputs_extracted_xml\", exist_ok=True)\n",
    "year = \"2022\"\n",
    "\n",
    "# Source = \"https://www.prix-carburants.gouv.fr/rubrique/opendata/\" (site gouvernemental)\n",
    "url = f\"https://donnees.roulez-eco.fr/opendata/annee/{year}\"\n",
    "\n",
    "response = requests.get(url)\n",
    "print(response)\n",
    "\n",
    "zip_file = zipfile.ZipFile(io.BytesIO(response.content))\n",
    "file_name = zip_file.namelist()[0]\n",
    "print(file_name)\n",
    "\n",
    "with zipfile.ZipFile(io.BytesIO(response.content), 'r') as zip_ref:\n",
    "    zip_ref.extractall(\"results/inputs_extracted_xml\")\n",
    "print(file_name, \"extracted\")"
   ]
  },
  {
   "cell_type": "code",
   "execution_count": 19,
   "id": "1ee83952-067d-4925-9fe6-0f5cfc1acf33",
   "metadata": {},
   "outputs": [
    {
     "name": "stderr",
     "output_type": "stream",
     "text": [
      "Exception ignored in sys.unraisablehook: <built-in function unraisablehook>\n",
      "Traceback (most recent call last):\n",
      "  File \"C:\\Users\\GaetanCORIN\\anaconda3\\envs\\python311\\Lib\\site-packages\\ipykernel\\iostream.py\", line 684, in write\n",
      "    self._buffers[frozenset(parent.items())].write(string)\n",
      "                  ^^^^^^^^^^^^^^^^^^^^^^^^^\n",
      "  File \"C:\\Users\\GaetanCORIN\\anaconda3\\envs\\python311\\Lib\\site-packages\\dateutil\\tz\\tz.py\", line 74, in utcoffset\n",
      "    def utcoffset(self, dt):\n",
      "\n",
      "KeyboardInterrupt: \n"
     ]
    },
    {
     "ename": "KeyboardInterrupt",
     "evalue": "",
     "output_type": "error",
     "traceback": [
      "\u001b[1;31m---------------------------------------------------------------------------\u001b[0m",
      "\u001b[1;31mKeyboardInterrupt\u001b[0m                         Traceback (most recent call last)",
      "    \u001b[1;31m[... skipping hidden 1 frame]\u001b[0m\n",
      "Cell \u001b[1;32mIn[19], line 25\u001b[0m\n\u001b[0;32m     23\u001b[0m         data\u001b[38;5;241m.\u001b[39mappend(row)\n\u001b[1;32m---> 25\u001b[0m df \u001b[38;5;241m=\u001b[39m pd\u001b[38;5;241m.\u001b[39mDataFrame(data)\n\u001b[0;32m     27\u001b[0m os\u001b[38;5;241m.\u001b[39mmakedirs(\u001b[38;5;124m\"\u001b[39m\u001b[38;5;124mresults/inputs_csv\u001b[39m\u001b[38;5;124m\"\u001b[39m, exist_ok\u001b[38;5;241m=\u001b[39m\u001b[38;5;28;01mTrue\u001b[39;00m)\n",
      "File \u001b[1;32m~\\anaconda3\\envs\\python311\\Lib\\site-packages\\pandas\\core\\frame.py:809\u001b[0m, in \u001b[0;36mDataFrame.__init__\u001b[1;34m(self, data, index, columns, dtype, copy)\u001b[0m\n\u001b[0;32m    808\u001b[0m     columns \u001b[38;5;241m=\u001b[39m ensure_index(columns)\n\u001b[1;32m--> 809\u001b[0m arrays, columns, index \u001b[38;5;241m=\u001b[39m nested_data_to_arrays(\n\u001b[0;32m    810\u001b[0m     \u001b[38;5;66;03m# error: Argument 3 to \"nested_data_to_arrays\" has incompatible\u001b[39;00m\n\u001b[0;32m    811\u001b[0m     \u001b[38;5;66;03m# type \"Optional[Collection[Any]]\"; expected \"Optional[Index]\"\u001b[39;00m\n\u001b[0;32m    812\u001b[0m     data,\n\u001b[0;32m    813\u001b[0m     columns,\n\u001b[0;32m    814\u001b[0m     index,  \u001b[38;5;66;03m# type: ignore[arg-type]\u001b[39;00m\n\u001b[0;32m    815\u001b[0m     dtype,\n\u001b[0;32m    816\u001b[0m )\n\u001b[0;32m    817\u001b[0m mgr \u001b[38;5;241m=\u001b[39m arrays_to_mgr(\n\u001b[0;32m    818\u001b[0m     arrays,\n\u001b[0;32m    819\u001b[0m     columns,\n\u001b[1;32m   (...)\u001b[0m\n\u001b[0;32m    822\u001b[0m     typ\u001b[38;5;241m=\u001b[39mmanager,\n\u001b[0;32m    823\u001b[0m )\n",
      "File \u001b[1;32m~\\anaconda3\\envs\\python311\\Lib\\site-packages\\pandas\\core\\internals\\construction.py:520\u001b[0m, in \u001b[0;36mnested_data_to_arrays\u001b[1;34m(data, columns, index, dtype)\u001b[0m\n\u001b[0;32m    518\u001b[0m     columns \u001b[38;5;241m=\u001b[39m ensure_index(data[\u001b[38;5;241m0\u001b[39m]\u001b[38;5;241m.\u001b[39m_fields)\n\u001b[1;32m--> 520\u001b[0m arrays, columns \u001b[38;5;241m=\u001b[39m to_arrays(data, columns, dtype\u001b[38;5;241m=\u001b[39mdtype)\n\u001b[0;32m    521\u001b[0m columns \u001b[38;5;241m=\u001b[39m ensure_index(columns)\n",
      "File \u001b[1;32m~\\anaconda3\\envs\\python311\\Lib\\site-packages\\pandas\\core\\internals\\construction.py:845\u001b[0m, in \u001b[0;36mto_arrays\u001b[1;34m(data, columns, dtype)\u001b[0m\n\u001b[0;32m    843\u001b[0m     arr \u001b[38;5;241m=\u001b[39m _list_to_arrays(data)\n\u001b[1;32m--> 845\u001b[0m content, columns \u001b[38;5;241m=\u001b[39m _finalize_columns_and_data(arr, columns, dtype)\n\u001b[0;32m    846\u001b[0m \u001b[38;5;28;01mreturn\u001b[39;00m content, columns\n",
      "File \u001b[1;32m~\\anaconda3\\envs\\python311\\Lib\\site-packages\\pandas\\core\\internals\\construction.py:939\u001b[0m, in \u001b[0;36m_finalize_columns_and_data\u001b[1;34m(content, columns, dtype)\u001b[0m\n\u001b[0;32m    938\u001b[0m \u001b[38;5;28;01mtry\u001b[39;00m:\n\u001b[1;32m--> 939\u001b[0m     columns \u001b[38;5;241m=\u001b[39m _validate_or_indexify_columns(contents, columns)\n\u001b[0;32m    940\u001b[0m \u001b[38;5;28;01mexcept\u001b[39;00m \u001b[38;5;167;01mAssertionError\u001b[39;00m \u001b[38;5;28;01mas\u001b[39;00m err:\n\u001b[0;32m    941\u001b[0m     \u001b[38;5;66;03m# GH#26429 do not raise user-facing AssertionError\u001b[39;00m\n",
      "File \u001b[1;32m~\\anaconda3\\envs\\python311\\Lib\\site-packages\\pandas\\core\\internals\\construction.py:984\u001b[0m, in \u001b[0;36m_validate_or_indexify_columns\u001b[1;34m(content, columns)\u001b[0m\n\u001b[0;32m    980\u001b[0m is_mi_list \u001b[38;5;241m=\u001b[39m \u001b[38;5;28misinstance\u001b[39m(columns, \u001b[38;5;28mlist\u001b[39m) \u001b[38;5;129;01mand\u001b[39;00m \u001b[38;5;28mall\u001b[39m(\n\u001b[0;32m    981\u001b[0m     \u001b[38;5;28misinstance\u001b[39m(col, \u001b[38;5;28mlist\u001b[39m) \u001b[38;5;28;01mfor\u001b[39;00m col \u001b[38;5;129;01min\u001b[39;00m columns\n\u001b[0;32m    982\u001b[0m )\n\u001b[1;32m--> 984\u001b[0m \u001b[38;5;28;01mif\u001b[39;00m \u001b[38;5;129;01mnot\u001b[39;00m is_mi_list \u001b[38;5;129;01mand\u001b[39;00m \u001b[38;5;28mlen\u001b[39m(columns) \u001b[38;5;241m!=\u001b[39m \u001b[38;5;28mlen\u001b[39m(content):  \u001b[38;5;66;03m# pragma: no cover\u001b[39;00m\n\u001b[0;32m    985\u001b[0m     \u001b[38;5;66;03m# caller's responsibility to check for this...\u001b[39;00m\n\u001b[0;32m    986\u001b[0m     \u001b[38;5;28;01mraise\u001b[39;00m \u001b[38;5;167;01mAssertionError\u001b[39;00m(\n\u001b[0;32m    987\u001b[0m         \u001b[38;5;124mf\u001b[39m\u001b[38;5;124m\"\u001b[39m\u001b[38;5;132;01m{\u001b[39;00m\u001b[38;5;28mlen\u001b[39m(columns)\u001b[38;5;132;01m}\u001b[39;00m\u001b[38;5;124m columns passed, passed data had \u001b[39m\u001b[38;5;124m\"\u001b[39m\n\u001b[0;32m    988\u001b[0m         \u001b[38;5;124mf\u001b[39m\u001b[38;5;124m\"\u001b[39m\u001b[38;5;132;01m{\u001b[39;00m\u001b[38;5;28mlen\u001b[39m(content)\u001b[38;5;132;01m}\u001b[39;00m\u001b[38;5;124m columns\u001b[39m\u001b[38;5;124m\"\u001b[39m\n\u001b[0;32m    989\u001b[0m     )\n",
      "\u001b[1;31mKeyboardInterrupt\u001b[0m: ",
      "\nDuring handling of the above exception, another exception occurred:\n",
      "\u001b[1;31mKeyboardInterrupt\u001b[0m                         Traceback (most recent call last)",
      "    \u001b[1;31m[... skipping hidden 1 frame]\u001b[0m\n",
      "File \u001b[1;32m~\\anaconda3\\envs\\python311\\Lib\\site-packages\\IPython\\core\\interactiveshell.py:2115\u001b[0m, in \u001b[0;36mInteractiveShell.showtraceback\u001b[1;34m(self, exc_tuple, filename, tb_offset, exception_only, running_compiled_code)\u001b[0m\n\u001b[0;32m   2112\u001b[0m     msg \u001b[38;5;241m=\u001b[39m traceback\u001b[38;5;241m.\u001b[39mformat_exception_only(etype, value)\n\u001b[0;32m   2113\u001b[0m     \u001b[38;5;28;01mreturn\u001b[39;00m \u001b[38;5;124m'\u001b[39m\u001b[38;5;124m'\u001b[39m\u001b[38;5;241m.\u001b[39mjoin(msg)\n\u001b[1;32m-> 2115\u001b[0m \u001b[38;5;28;01mdef\u001b[39;00m \u001b[38;5;21mshowtraceback\u001b[39m(\u001b[38;5;28mself\u001b[39m, exc_tuple\u001b[38;5;241m=\u001b[39m\u001b[38;5;28;01mNone\u001b[39;00m, filename\u001b[38;5;241m=\u001b[39m\u001b[38;5;28;01mNone\u001b[39;00m, tb_offset\u001b[38;5;241m=\u001b[39m\u001b[38;5;28;01mNone\u001b[39;00m,\n\u001b[0;32m   2116\u001b[0m                   exception_only\u001b[38;5;241m=\u001b[39m\u001b[38;5;28;01mFalse\u001b[39;00m, running_compiled_code\u001b[38;5;241m=\u001b[39m\u001b[38;5;28;01mFalse\u001b[39;00m):\n\u001b[0;32m   2117\u001b[0m \u001b[38;5;250m    \u001b[39m\u001b[38;5;124;03m\"\"\"Display the exception that just occurred.\u001b[39;00m\n\u001b[0;32m   2118\u001b[0m \n\u001b[0;32m   2119\u001b[0m \u001b[38;5;124;03m    If nothing is known about the exception, this is the method which\u001b[39;00m\n\u001b[1;32m   (...)\u001b[0m\n\u001b[0;32m   2125\u001b[0m \u001b[38;5;124;03m    SyntaxError exception, don't try to analyze the stack manually and\u001b[39;00m\n\u001b[0;32m   2126\u001b[0m \u001b[38;5;124;03m    simply call this method.\"\"\"\u001b[39;00m\n\u001b[0;32m   2128\u001b[0m     \u001b[38;5;28;01mtry\u001b[39;00m:\n",
      "\u001b[1;31mKeyboardInterrupt\u001b[0m: "
     ]
    }
   ],
   "source": [
    "import xml.etree.ElementTree as ET\n",
    "import html\n",
    "\n",
    "tree = ET.parse(f\"results/inputs_extracted_xml/PrixCarburants_annuel_{year}.xml\")\n",
    "root = tree.getroot()\n",
    "\n",
    "data = []\n",
    "for pdv in root.findall(\"pdv\"):\n",
    "    for p in pdv.findall(\"prix\"):\n",
    "        row = {\n",
    "            \"id\": pdv.get(\"id\"),\n",
    "            \"latitude\": pdv.get(\"latitude\"),\n",
    "            \"longitude\": pdv.get(\"longitude\"),\n",
    "            \"cp\": pdv.get(\"cp\"),\n",
    "            \"ville\": pdv.find(\"ville\").text,\n",
    "            # \"ville\": (pdv.find(\"ville\").text.encode(\"latin1\").decode(\"utf-8\") if pdv.find(\"ville\") is not None and pdv.find(\"ville\").text else None),\n",
    "            # \"adresse\": html.unescape(pdv.find(\"adresse\").text).replace(\",\", \" \").replace(\";\", \" \") if pdv.find(\"adresse\") is not None and pdv.find(\"adresse\").text else None,\n",
    "            \"adresse\": pdv.find(\"adresse\").text.replace(\",\", \" \").replace(\";\", \" \") if pdv.find(\"adresse\") is not None and pdv.find(\"adresse\").text else None,\n",
    "            \"nom\": p.get(\"nom\"),\n",
    "            \"maj\": p.get(\"maj\").split(\"T\")[0] if p.get(\"maj\") is not None and \"T\" in p.get(\"maj\") else None,\n",
    "            \"valeur\": float(p.get(\"valeur\")) if p.get(\"valeur\") is not None else None\n",
    "        }\n",
    "        data.append(row)\n",
    "\n",
    "df = pd.DataFrame(data)\n",
    "\n",
    "os.makedirs(\"results/inputs_csv\", exist_ok=True)\n",
    "df.to_csv(f\"results/inputs_csv/PrixCarburants_annuel_{year}.csv\", index=False)\n",
    "df.head(25)"
   ]
  },
  {
   "cell_type": "code",
   "execution_count": 10,
   "id": "7df8d1f0-20fb-433d-b485-2bffd0d7ed1a",
   "metadata": {},
   "outputs": [
    {
     "name": "stdout",
     "output_type": "stream",
     "text": [
      "              id latitude longitude     cp    ville  \\\n",
      "439603  13140008  4358515    500513  13140  Miramas   \n",
      "\n",
      "                          adresse   nom   maj  valeur  \n",
      "439603  RN 569 Route d#039 Istres  None  None     NaN  \n"
     ]
    }
   ],
   "source": [
    "print(df[df[\"id\"]== \"13140008\"])"
   ]
  },
  {
   "cell_type": "code",
   "execution_count": 15,
   "id": "081b01b8-4cce-48a9-80c0-49b7ef29bebc",
   "metadata": {},
   "outputs": [],
   "source": [
    "# print(df[\"valeur\"].min(), df[\"valeur\"].max())"
   ]
  },
  {
   "cell_type": "code",
   "execution_count": 17,
   "id": "4cf5eb4d-855a-4b29-b787-37f2ec64abbc",
   "metadata": {},
   "outputs": [
    {
     "data": {
      "text/plain": [
       "13814"
      ]
     },
     "execution_count": 17,
     "metadata": {},
     "output_type": "execute_result"
    }
   ],
   "source": [
    "len(df[\"id\"].unique())"
   ]
  },
  {
   "cell_type": "code",
   "execution_count": null,
   "id": "9a2ebcf9-131a-4607-9433-5d00421966ca",
   "metadata": {},
   "outputs": [],
   "source": []
  }
 ],
 "metadata": {
  "kernelspec": {
   "display_name": "Python 3.11 (python311)",
   "language": "python",
   "name": "python311"
  },
  "language_info": {
   "codemirror_mode": {
    "name": "ipython",
    "version": 3
   },
   "file_extension": ".py",
   "mimetype": "text/x-python",
   "name": "python",
   "nbconvert_exporter": "python",
   "pygments_lexer": "ipython3",
   "version": "3.11.10"
  }
 },
 "nbformat": 4,
 "nbformat_minor": 5
}
