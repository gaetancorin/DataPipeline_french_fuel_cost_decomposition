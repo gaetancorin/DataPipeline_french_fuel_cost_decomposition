{
 "cells": [
  {
   "cell_type": "code",
   "execution_count": null,
   "id": "5e4e45ff",
   "metadata": {},
   "outputs": [],
   "source": [
    "import pandas as pd\n",
    "import warnings\n",
    "import pymongo\n",
    "from datetime import datetime\n",
    "# pd.set_option('display.max_rows', None)\n",
    "\n",
    "pd.options.mode.chained_assignment = None\n",
    "warnings.filterwarnings('ignore', category=RuntimeWarning)\n",
    "\n",
    "# Setup MongoDB connection (local)\n",
    "mongo_host = \"localhost\"\n",
    "mongo_port = 27017\n",
    "mongo_user = \"admin\"\n",
    "mongo_password = \"password\"\n",
    "auth_db = \"admin\"\n",
    "client_mongo = pymongo.MongoClient(\n",
    "    host=mongo_host,\n",
    "    port=mongo_port,\n",
    "    username=mongo_user,\n",
    "    password=mongo_password,\n",
    "    authSource=auth_db\n",
    ")\n",
    "\n",
    "# GET gas_prices_from_french_gas_station\n",
    "db_mongo_datalake = client_mongo.get_database(\"datalake\")\n",
    "collection_mongo = db_mongo_datalake.get_collection(\"compare_french_gas_to_stockmarket\")\n",
    "cursor = collection_mongo.find({})\n",
    "df_eur_usd = pd.DataFrame(list(cursor))"
   ]
  }
 ],
 "metadata": {
  "kernelspec": {
   "display_name": "Python 3 (ipykernel)",
   "language": "python",
   "name": "python3"
  },
  "language_info": {
   "codemirror_mode": {
    "name": "ipython",
    "version": 3
   },
   "file_extension": ".py",
   "mimetype": "text/x-python",
   "name": "python",
   "nbconvert_exporter": "python",
   "pygments_lexer": "ipython3",
   "version": "3.11.5"
  }
 },
 "nbformat": 4,
 "nbformat_minor": 5
}
