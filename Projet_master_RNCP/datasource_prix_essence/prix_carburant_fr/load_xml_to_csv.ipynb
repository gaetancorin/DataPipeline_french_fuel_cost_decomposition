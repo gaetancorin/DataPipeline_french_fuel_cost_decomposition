{
 "cells": [
  {
   "cell_type": "code",
   "execution_count": 1,
   "id": "6026123f-3c0f-428f-8263-cf15f91a1cc2",
   "metadata": {},
   "outputs": [
    {
     "name": "stdout",
     "output_type": "stream",
     "text": [
      "<Response [200]>\n",
      "PrixCarburants_annuel_2025.xml\n",
      "PrixCarburants_annuel_2025.xml extracted\n"
     ]
    }
   ],
   "source": [
    "import requests\n",
    "import pandas as pd\n",
    "import zipfile\n",
    "import io\n",
    "import os\n",
    "os.makedirs(\"results/inputs_extracted_xml\", exist_ok=True)\n",
    "year = \"2025\"\n",
    "\n",
    "# Source = \"https://www.prix-carburants.gouv.fr/rubrique/opendata/\" (site gouvernemental)\n",
    "url = f\"https://donnees.roulez-eco.fr/opendata/annee/{year}\"\n",
    "\n",
    "response = requests.get(url)\n",
    "print(response)\n",
    "\n",
    "zip_file = zipfile.ZipFile(io.BytesIO(response.content))\n",
    "file_name = zip_file.namelist()[0]\n",
    "print(file_name)\n",
    "\n",
    "with zipfile.ZipFile(io.BytesIO(response.content), 'r') as zip_ref:\n",
    "    zip_ref.extractall(\"results/inputs_extracted_xml\")\n",
    "print(file_name, \"extracted\")"
   ]
  },
  {
   "cell_type": "code",
   "execution_count": 2,
   "id": "1ee83952-067d-4925-9fe6-0f5cfc1acf33",
   "metadata": {},
   "outputs": [],
   "source": [
    "import xml.etree.ElementTree as ET\n",
    "import html\n",
    "\n",
    "tree = ET.parse(f\"results/inputs_extracted_xml/PrixCarburants_annuel_{year}.xml\")\n",
    "root = tree.getroot()\n",
    "\n",
    "data = []\n",
    "for pdv in root.findall(\"pdv\"):\n",
    "    for p in pdv.findall(\"prix\"):\n",
    "        row = {\n",
    "            \"id\": pdv.get(\"id\"),\n",
    "            \"latitude\": pdv.get(\"latitude\"),\n",
    "            \"longitude\": pdv.get(\"longitude\"),\n",
    "            \"cp\": pdv.get(\"cp\"),\n",
    "            \"ville\": pdv.find(\"ville\").text if pdv.find(\"ville\") is not None and pdv.find(\"ville\").text else None,\n",
    "            \"adresse\": pdv.find(\"adresse\").text.replace(\",\", \" \").replace(\";\", \" \") if pdv.find(\"adresse\") is not None and pdv.find(\"adresse\").text else None,\n",
    "            \"nom\": p.get(\"nom\"),\n",
    "            \"maj\": p.get(\"maj\"),\n",
    "            \"valeur\": p.get(\"valeur\")\n",
    "        }\n",
    "        data.append(row)\n",
    "\n",
    "df = pd.DataFrame(data)\n",
    "\n",
    "# os.makedirs(\"results/inputs_csv\", exist_ok=True)\n",
    "# df.to_csv(f\"results/inputs_csv/PrixCarburants_annuel_{year}_original.csv\", index=False)\n",
    "# df.head(5)"
   ]
  },
  {
   "cell_type": "code",
   "execution_count": 3,
   "id": "62034761-6724-4628-8dbb-21b4df8baf3d",
   "metadata": {},
   "outputs": [
    {
     "name": "stdout",
     "output_type": "stream",
     "text": [
      "id           object\n",
      "latitude     object\n",
      "longitude    object\n",
      "cp           object\n",
      "ville        object\n",
      "adresse      object\n",
      "nom          object\n",
      "maj          object\n",
      "valeur       object\n",
      "dtype: object\n",
      "id             int32\n",
      "latitude     float64\n",
      "longitude    float64\n",
      "cp             int32\n",
      "ville         object\n",
      "adresse       object\n",
      "nom           object\n",
      "maj           object\n",
      "valeur       float64\n",
      "dtype: object\n"
     ]
    },
    {
     "data": {
      "text/html": [
       "<div>\n",
       "<style scoped>\n",
       "    .dataframe tbody tr th:only-of-type {\n",
       "        vertical-align: middle;\n",
       "    }\n",
       "\n",
       "    .dataframe tbody tr th {\n",
       "        vertical-align: top;\n",
       "    }\n",
       "\n",
       "    .dataframe thead th {\n",
       "        text-align: right;\n",
       "    }\n",
       "</style>\n",
       "<table border=\"1\" class=\"dataframe\">\n",
       "  <thead>\n",
       "    <tr style=\"text-align: right;\">\n",
       "      <th></th>\n",
       "      <th>id</th>\n",
       "      <th>latitude</th>\n",
       "      <th>longitude</th>\n",
       "      <th>cp</th>\n",
       "      <th>ville</th>\n",
       "      <th>adresse</th>\n",
       "      <th>nom</th>\n",
       "      <th>maj</th>\n",
       "      <th>valeur</th>\n",
       "    </tr>\n",
       "  </thead>\n",
       "  <tbody>\n",
       "    <tr>\n",
       "      <th>0</th>\n",
       "      <td>1000001</td>\n",
       "      <td>4620100.0</td>\n",
       "      <td>519800.0</td>\n",
       "      <td>1000</td>\n",
       "      <td>SAINT-DENIS-LèS-BOURG</td>\n",
       "      <td>596 AVENUE DE TREVOUX</td>\n",
       "      <td>Gazole</td>\n",
       "      <td>2025_01_02</td>\n",
       "      <td>1707.0</td>\n",
       "    </tr>\n",
       "    <tr>\n",
       "      <th>1</th>\n",
       "      <td>1000001</td>\n",
       "      <td>4620100.0</td>\n",
       "      <td>519800.0</td>\n",
       "      <td>1000</td>\n",
       "      <td>SAINT-DENIS-LèS-BOURG</td>\n",
       "      <td>596 AVENUE DE TREVOUX</td>\n",
       "      <td>Gazole</td>\n",
       "      <td>2025_01_02</td>\n",
       "      <td>1707.0</td>\n",
       "    </tr>\n",
       "    <tr>\n",
       "      <th>2</th>\n",
       "      <td>1000001</td>\n",
       "      <td>4620100.0</td>\n",
       "      <td>519800.0</td>\n",
       "      <td>1000</td>\n",
       "      <td>SAINT-DENIS-LèS-BOURG</td>\n",
       "      <td>596 AVENUE DE TREVOUX</td>\n",
       "      <td>Gazole</td>\n",
       "      <td>2025_01_03</td>\n",
       "      <td>1725.0</td>\n",
       "    </tr>\n",
       "    <tr>\n",
       "      <th>3</th>\n",
       "      <td>1000001</td>\n",
       "      <td>4620100.0</td>\n",
       "      <td>519800.0</td>\n",
       "      <td>1000</td>\n",
       "      <td>SAINT-DENIS-LèS-BOURG</td>\n",
       "      <td>596 AVENUE DE TREVOUX</td>\n",
       "      <td>Gazole</td>\n",
       "      <td>2025_01_07</td>\n",
       "      <td>1705.0</td>\n",
       "    </tr>\n",
       "    <tr>\n",
       "      <th>4</th>\n",
       "      <td>1000001</td>\n",
       "      <td>4620100.0</td>\n",
       "      <td>519800.0</td>\n",
       "      <td>1000</td>\n",
       "      <td>SAINT-DENIS-LèS-BOURG</td>\n",
       "      <td>596 AVENUE DE TREVOUX</td>\n",
       "      <td>Gazole</td>\n",
       "      <td>2025_01_09</td>\n",
       "      <td>1688.0</td>\n",
       "    </tr>\n",
       "  </tbody>\n",
       "</table>\n",
       "</div>"
      ],
      "text/plain": [
       "        id   latitude  longitude    cp                  ville  \\\n",
       "0  1000001  4620100.0   519800.0  1000  SAINT-DENIS-LèS-BOURG   \n",
       "1  1000001  4620100.0   519800.0  1000  SAINT-DENIS-LèS-BOURG   \n",
       "2  1000001  4620100.0   519800.0  1000  SAINT-DENIS-LèS-BOURG   \n",
       "3  1000001  4620100.0   519800.0  1000  SAINT-DENIS-LèS-BOURG   \n",
       "4  1000001  4620100.0   519800.0  1000  SAINT-DENIS-LèS-BOURG   \n",
       "\n",
       "                 adresse     nom         maj  valeur  \n",
       "0  596 AVENUE DE TREVOUX  Gazole  2025_01_02  1707.0  \n",
       "1  596 AVENUE DE TREVOUX  Gazole  2025_01_02  1707.0  \n",
       "2  596 AVENUE DE TREVOUX  Gazole  2025_01_03  1725.0  \n",
       "3  596 AVENUE DE TREVOUX  Gazole  2025_01_07  1705.0  \n",
       "4  596 AVENUE DE TREVOUX  Gazole  2025_01_09  1688.0  "
      ]
     },
     "execution_count": 3,
     "metadata": {},
     "output_type": "execute_result"
    }
   ],
   "source": [
    "import numpy as np\n",
    "print(df.dtypes)\n",
    "\n",
    "df[\"id\"] = df[\"id\"].astype(int)\n",
    "df[\"latitude\"] = df[\"latitude\"].replace([\"\", \"0\"], np.nan).astype(float)\n",
    "df[\"longitude\"] = df[\"longitude\"].replace([\"\", \"0\"], np.nan).astype(float)\n",
    "df['adresse'] = df['adresse'].str.replace(\"\\n\", \" \", regex=True)\n",
    "df[\"valeur\"] = df[\"valeur\"].astype(float)\n",
    "\n",
    "# (le cp est de valeur '35***' sur une des valeurs de 2008 et son id \"35200004\" ne correspond a aucune station sur d'autres année, donc on supprime.)\n",
    "df = df[df[\"cp\"] != \"35***\"]\n",
    "df[\"cp\"] = df[\"cp\"].replace(\"\", np.nan).astype(int)\n",
    "\n",
    "# (format date used between 2014 and now)\n",
    "df['maj_without_microsec_with_T'] = pd.to_datetime(df['maj'], format='%Y-%m-%dT%H:%M:%S', errors='coerce').dt.strftime('%Y_%m_%d')\n",
    "# (format date used between 2007 and 2013)\n",
    "df['maj_without_microsec'] = pd.to_datetime(df['maj'], format='%Y-%m-%d %H:%M:%S', errors='coerce').dt.strftime('%Y_%m_%d')\n",
    "df['maj_with_microsec'] = pd.to_datetime(df['maj'], format='%Y-%m-%d %H:%M:%S.%f', errors='coerce').dt.strftime('%Y_%m_%d')\n",
    "\n",
    "df['maj'] = df['maj_with_microsec'].fillna(df['maj_without_microsec']).fillna(df['maj_without_microsec_with_T'])\n",
    "df = df.drop(columns=[\"maj_without_microsec\", \"maj_with_microsec\", \"maj_without_microsec_with_T\"])\n",
    "\n",
    "# values format used between 2007 and 2021 = 500 to 2000\n",
    "# values format used between 2022 ans now = 0.5 to 2.0 (need to be adapted to 500 to 2000)\n",
    "df['valeur'] = df['valeur'] * 1000 if int(year) > 2021 else df['valeur']\n",
    "\n",
    "print(df.dtypes)\n",
    "\n",
    "os.makedirs(\"results/inputs_csv\", exist_ok=True)\n",
    "df.to_csv(f\"results/inputs_csv/PrixCarburants_annuel_{year}.csv\", index=False)\n",
    "df.head(5)"
   ]
  },
  {
   "cell_type": "code",
   "execution_count": 4,
   "id": "0f9fa1a9-83e6-487d-8495-694f77feec84",
   "metadata": {},
   "outputs": [
    {
     "name": "stdout",
     "output_type": "stream",
     "text": [
      "id unique 14080\n",
      "all values 859899\n"
     ]
    }
   ],
   "source": [
    "print(\"id unique\", len(df[\"id\"].unique()))\n",
    "\n",
    "print(\"all values\", len(df))"
   ]
  },
  {
   "cell_type": "code",
   "execution_count": 5,
   "id": "a235fb50-2da3-4833-83a8-2494dadcd05a",
   "metadata": {},
   "outputs": [
    {
     "data": {
      "text/plain": [
       "id              0\n",
       "latitude       73\n",
       "longitude      73\n",
       "cp              0\n",
       "ville           0\n",
       "adresse        41\n",
       "nom          4549\n",
       "maj          4549\n",
       "valeur       4549\n",
       "dtype: int64"
      ]
     },
     "execution_count": 5,
     "metadata": {},
     "output_type": "execute_result"
    }
   ],
   "source": [
    "df.isnull().sum()"
   ]
  },
  {
   "cell_type": "code",
   "execution_count": 6,
   "id": "d85d8a31-2d58-4948-b1a9-86fce2cb3b28",
   "metadata": {},
   "outputs": [],
   "source": [
    "# check bad string\n",
    "# print(df[df['adresse'].str.startswith(\"ZI La Laure\", na=False)])"
   ]
  },
  {
   "cell_type": "code",
   "execution_count": 7,
   "id": "37a12696-3779-4a3c-8bdf-c81bfde5e3c1",
   "metadata": {},
   "outputs": [],
   "source": [
    "# check what ID have None data\n",
    "# df2 = df.copy()\n",
    "# df2 = df2[df2['adresse'].isna()]\n",
    "\n",
    "# df2 = df2[[\"id\", \"adresse\"]].drop_duplicates()\n",
    "# df2.head(25)"
   ]
  },
  {
   "cell_type": "code",
   "execution_count": null,
   "id": "dce90ef3-c0ba-44a8-becc-0426cb7556cb",
   "metadata": {},
   "outputs": [],
   "source": []
  }
 ],
 "metadata": {
  "kernelspec": {
   "display_name": "Python 3.11 (python311)",
   "language": "python",
   "name": "python311"
  },
  "language_info": {
   "codemirror_mode": {
    "name": "ipython",
    "version": 3
   },
   "file_extension": ".py",
   "mimetype": "text/x-python",
   "name": "python",
   "nbconvert_exporter": "python",
   "pygments_lexer": "ipython3",
   "version": "3.11.10"
  }
 },
 "nbformat": 4,
 "nbformat_minor": 5
}
