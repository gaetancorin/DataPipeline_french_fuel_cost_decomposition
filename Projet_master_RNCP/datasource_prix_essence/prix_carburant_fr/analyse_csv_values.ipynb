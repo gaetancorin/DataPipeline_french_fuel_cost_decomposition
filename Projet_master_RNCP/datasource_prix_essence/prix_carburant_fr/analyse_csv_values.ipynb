{
 "cells": [
  {
   "cell_type": "code",
   "execution_count": 6,
   "id": "67378f35-da88-4870-96fe-0457e43ee895",
   "metadata": {},
   "outputs": [
    {
     "name": "stdout",
     "output_type": "stream",
     "text": [
      "['PrixCarburants_annuel_2007.csv', 'PrixCarburants_annuel_2008.csv', 'PrixCarburants_annuel_2009.csv', 'PrixCarburants_annuel_2010.csv', 'PrixCarburants_annuel_2011.csv', 'PrixCarburants_annuel_2012.csv', 'PrixCarburants_annuel_2013.csv', 'PrixCarburants_annuel_2014.csv', 'PrixCarburants_annuel_2015.csv', 'PrixCarburants_annuel_2016.csv', 'PrixCarburants_annuel_2017.csv', 'PrixCarburants_annuel_2018.csv', 'PrixCarburants_annuel_2019.csv', 'PrixCarburants_annuel_2020.csv', 'PrixCarburants_annuel_2021.csv', 'PrixCarburants_annuel_2022.csv', 'PrixCarburants_annuel_2023.csv', 'PrixCarburants_annuel_2024.csv', 'PrixCarburants_annuel_2025.csv']\n",
      "PrixCarburants_annuel_2007.csv\n",
      "['Gazole' 'SP95' nan 'GPLc' 'E85']\n",
      "PrixCarburants_annuel_2008.csv\n",
      "['Gazole' 'SP95' 'GPLc' nan 'E85']\n",
      "PrixCarburants_annuel_2009.csv\n",
      "['Gazole' 'SP95' 'E85' 'GPLc' 'E10' nan]\n",
      "PrixCarburants_annuel_2010.csv\n",
      "['Gazole' 'SP95' 'GPLc' nan 'E10' 'E85']\n",
      "PrixCarburants_annuel_2011.csv\n",
      "['Gazole' 'SP95' 'GPLc' nan 'E10' 'E85']\n",
      "PrixCarburants_annuel_2012.csv\n",
      "['Gazole' 'SP95' 'GPLc' nan 'E10' 'E85']\n",
      "PrixCarburants_annuel_2013.csv\n",
      "['Gazole' 'SP95' 'SP98' 'GPLc' nan 'E10' 'E85']\n",
      "PrixCarburants_annuel_2014.csv\n",
      "['Gazole' 'SP95' 'SP98' 'GPLc' nan 'E10' 'E85']"
     ]
    },
    {
     "name": "stderr",
     "output_type": "stream",
     "text": [
      "\n",
      "KeyboardInterrupt\n",
      "\n"
     ]
    }
   ],
   "source": [
    "import pandas as pd\n",
    "import os\n",
    "# pd.options.mode.chained_assignment = None\n",
    "\n",
    "os.makedirs(\"results/inputs_csv\", exist_ok=True)\n",
    "\n",
    "csv_files = sorted(os.listdir(\"results/inputs_csv\"))\n",
    "print(csv_files)\n",
    "\n",
    "for i in range(len(csv_files)):\n",
    "    csv_file_name = csv_files[i]\n",
    "    print(csv_file_name)\n",
    "    df = pd.read_csv(f\"results/inputs_csv/{csv_file_name}\")\n",
    "\n",
    "    df_prices = df[[\"maj\", \"nom\", \"valeur\"]]\n",
    "\n",
    "    print(df_prices[\"nom\"].unique())\n",
    "    \n",
    "    # df_prices = df_prices.sort_values(by=['valeur']\n",
    "    # print(\"valeur max\")\n",
    "    # print(df_prices.nlargest(10, 'valeur'))\n",
    "\n",
    "    # print(\"valeur min\")\n",
    "    # print(df_prices.nsmallest(10, 'valeur'))"
   ]
  },
  {
   "cell_type": "code",
   "execution_count": null,
   "id": "794306e7-b4d5-4ce5-96e7-81b62e64f1b2",
   "metadata": {},
   "outputs": [],
   "source": []
  }
 ],
 "metadata": {
  "kernelspec": {
   "display_name": "Python 3.11 (python311)",
   "language": "python",
   "name": "python311"
  },
  "language_info": {
   "codemirror_mode": {
    "name": "ipython",
    "version": 3
   },
   "file_extension": ".py",
   "mimetype": "text/x-python",
   "name": "python",
   "nbconvert_exporter": "python",
   "pygments_lexer": "ipython3",
   "version": "3.11.10"
  }
 },
 "nbformat": 4,
 "nbformat_minor": 5
}
