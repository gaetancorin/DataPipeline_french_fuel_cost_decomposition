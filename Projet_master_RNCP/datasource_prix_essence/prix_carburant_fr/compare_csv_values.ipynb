{
 "cells": [
  {
   "cell_type": "markdown",
   "id": "b58293f2-a63c-4e39-a0c0-61046de9b239",
   "metadata": {},
   "source": [
    "##### On veut comparer les csv de chaque années sur les \"Id\" voir si il s'agit des mêmes d'années en années."
   ]
  },
  {
   "cell_type": "code",
   "execution_count": 1,
   "id": "decb20e6-cdd5-41a3-b257-af2163166dc5",
   "metadata": {},
   "outputs": [
    {
     "name": "stdout",
     "output_type": "stream",
     "text": [
      "['PrixCarburants_annuel_2007.csv', 'PrixCarburants_annuel_2008.csv', 'PrixCarburants_annuel_2009.csv', 'PrixCarburants_annuel_2010.csv', 'PrixCarburants_annuel_2011.csv', 'PrixCarburants_annuel_2012.csv', 'PrixCarburants_annuel_2013.csv', 'PrixCarburants_annuel_2014.csv', 'PrixCarburants_annuel_2015.csv', 'PrixCarburants_annuel_2016.csv', 'PrixCarburants_annuel_2017.csv', 'PrixCarburants_annuel_2018.csv', 'PrixCarburants_annuel_2019.csv', 'PrixCarburants_annuel_2020.csv', 'PrixCarburants_annuel_2021.csv', 'PrixCarburants_annuel_2022.csv', 'PrixCarburants_annuel_2023.csv', 'PrixCarburants_annuel_2024.csv', 'PrixCarburants_annuel_2025.csv']\n",
      "PrixCarburants_annuel_2007.csv PrixCarburants_annuel_2008.csv\n",
      "866993\n",
      "PrixCarburants_annuel_2008.csv PrixCarburants_annuel_2009.csv\n",
      "1422158\n",
      "PrixCarburants_annuel_2009.csv PrixCarburants_annuel_2010.csv\n",
      "1398296\n",
      "PrixCarburants_annuel_2010.csv PrixCarburants_annuel_2011.csv\n",
      "1445254\n",
      "PrixCarburants_annuel_2011.csv PrixCarburants_annuel_2012.csv\n",
      "1613150\n",
      "PrixCarburants_annuel_2012.csv PrixCarburants_annuel_2013.csv\n",
      "1904467\n",
      "PrixCarburants_annuel_2013.csv PrixCarburants_annuel_2014.csv\n",
      "2152004\n",
      "PrixCarburants_annuel_2014.csv PrixCarburants_annuel_2015.csv\n",
      "2199274\n",
      "PrixCarburants_annuel_2015.csv PrixCarburants_annuel_2016.csv\n",
      "3307860\n",
      "PrixCarburants_annuel_2016.csv PrixCarburants_annuel_2017.csv\n",
      "3894247\n",
      "PrixCarburants_annuel_2017.csv PrixCarburants_annuel_2018.csv\n",
      "3662353\n",
      "PrixCarburants_annuel_2018.csv PrixCarburants_annuel_2019.csv\n",
      "3885692\n",
      "PrixCarburants_annuel_2019.csv PrixCarburants_annuel_2020.csv\n",
      "4214434\n",
      "PrixCarburants_annuel_2020.csv PrixCarburants_annuel_2021.csv\n",
      "3863795\n",
      "PrixCarburants_annuel_2021.csv PrixCarburants_annuel_2022.csv\n",
      "4287387\n",
      "PrixCarburants_annuel_2022.csv PrixCarburants_annuel_2023.csv\n",
      "5048606\n",
      "PrixCarburants_annuel_2023.csv PrixCarburants_annuel_2024.csv\n",
      "4687530\n",
      "PrixCarburants_annuel_2024.csv PrixCarburants_annuel_2025.csv\n",
      "4592186\n"
     ]
    }
   ],
   "source": [
    "import pandas as pd\n",
    "import os\n",
    "\n",
    "os.makedirs(\"results/inputs_csv\", exist_ok=True)\n",
    "\n",
    "csv_files = sorted(os.listdir(\"results/inputs_csv\"))\n",
    "print(csv_files)\n",
    "\n",
    "for i in range(len(csv_files) - 1):\n",
    "    precedent_year = csv_files[i]\n",
    "    actual_year = csv_files[i+1]\n",
    "    print(precedent_year, actual_year)\n",
    "\n",
    "    precedent_df = pd.read_csv(f\"results/inputs_csv/{precedent_year}\")\n",
    "    actual_df = pd.read_csv(f\"results/inputs_csv/{actual_year}\")\n",
    "\n"
   ]
  },
  {
   "cell_type": "code",
   "execution_count": null,
   "id": "95548d2e-06d3-4669-923f-368601bc9631",
   "metadata": {},
   "outputs": [],
   "source": []
  }
 ],
 "metadata": {
  "kernelspec": {
   "display_name": "Python 3.11 (python311)",
   "language": "python",
   "name": "python311"
  },
  "language_info": {
   "codemirror_mode": {
    "name": "ipython",
    "version": 3
   },
   "file_extension": ".py",
   "mimetype": "text/x-python",
   "name": "python",
   "nbconvert_exporter": "python",
   "pygments_lexer": "ipython3",
   "version": "3.11.10"
  }
 },
 "nbformat": 4,
 "nbformat_minor": 5
}
