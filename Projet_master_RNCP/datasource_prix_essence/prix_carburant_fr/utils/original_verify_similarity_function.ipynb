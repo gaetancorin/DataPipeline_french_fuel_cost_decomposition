{
 "cells": [
  {
   "cell_type": "markdown",
   "id": "63e0cb22",
   "metadata": {},
   "source": [
    "## Function that accepts two dataframes as parameters, as well as the columns we wish to compare.\n",
    "The function should return a dataframe indicating the positions of each value in the \"_both\" column.\""
   ]
  },
  {
   "cell_type": "code",
   "execution_count": 4,
   "id": "057b669c",
   "metadata": {},
   "outputs": [],
   "source": [
    "import pandas as pd\n",
    "import numpy as np"
   ]
  },
  {
   "cell_type": "code",
   "execution_count": 5,
   "id": "183a27e5",
   "metadata": {},
   "outputs": [
    {
     "name": "stdout",
     "output_type": "stream",
     "text": [
      "7235 rows on DATABRICK file\n",
      "8811 rows on MENAPS file\n"
     ]
    }
   ],
   "source": [
    "file_databrick = r\"C:\\Users\\gcorin\\Documents\\JDMB_etl\\datas\\DATABRICK\\CODEP\\databrick_files\\codep_sample_filter(in).csv\"\n",
    "df_databrick = pd.read_csv(file_databrick)\n",
    "print(len(df_databrick), \"rows on DATABRICK file\")\n",
    "\n",
    "file_menaps = r\"C:\\Users\\gcorin\\Documents\\JDMB_etl\\datas\\DATABRICK\\CODEP\\menaps_files\\CODEP_D85_preformate_menaps.csv\"\n",
    "df_menaps = pd.read_csv(file_menaps)\n",
    "print(len(df_menaps), \"rows on MENAPS file\")"
   ]
  },
  {
   "cell_type": "code",
   "execution_count": 6,
   "id": "315f4352",
   "metadata": {},
   "outputs": [],
   "source": [
    "def verify_similarity(df_databrick, df_menaps, columns):\n",
    "    for column in columns:\n",
    "        df_databrick[column] = df_databrick[column].astype(str)\n",
    "        df_menaps[column] = df_menaps[column].astype(str)\n",
    "    \n",
    "    df_merge = pd.merge(df_databrick, df_menaps[columns], on=columns, how='left', indicator=True)\n",
    "    df_only_databrick = df_merge[df_merge['_merge'] == 'left_only']\n",
    "    df_only_databrick['_merge'] = 'DATABRICK_ONLY'\n",
    "    print(\"values ONLY DATABRICK = \", len(df_only_databrick))\n",
    "\n",
    "    df_merge2 = pd.merge(df_menaps, df_databrick[columns], on=columns, how='left', indicator=True)\n",
    "    df_only_menaps = df_merge2[df_merge2['_merge'] == 'left_only']\n",
    "    df_only_menaps['_merge'] = 'MENAPS_ONLY'\n",
    "    print(\"values ONLY MENAPS = \",len(df_only_menaps))\n",
    "\n",
    "    df_both = df_merge[df_merge['_merge'] == 'both']\n",
    "    print(\"values BOTH into first merge = \", len(df_both))\n",
    "    df_both2 = df_merge2[df_merge2['_merge'] == 'both']\n",
    "    print(\"values BOTH into second merge = \", len(df_both2))\n",
    "    df_both['_merge'] = 'BOTH'\n",
    "    \n",
    "    result_concat = pd.concat([df_only_databrick, df_only_menaps, df_both], ignore_index=True)\n",
    "    \n",
    "    return result_concat"
   ]
  },
  {
   "cell_type": "code",
   "execution_count": 7,
   "id": "fa257f51",
   "metadata": {},
   "outputs": [
    {
     "name": "stderr",
     "output_type": "stream",
     "text": [
      "C:\\Users\\gcorin\\AppData\\Local\\Temp\\ipykernel_150612\\3766560675.py:8: SettingWithCopyWarning: \n",
      "A value is trying to be set on a copy of a slice from a DataFrame.\n",
      "Try using .loc[row_indexer,col_indexer] = value instead\n",
      "\n",
      "See the caveats in the documentation: https://pandas.pydata.org/pandas-docs/stable/user_guide/indexing.html#returning-a-view-versus-a-copy\n",
      "  df_only_databrick['_merge'] = 'DATABRICK_ONLY'\n",
      "C:\\Users\\gcorin\\AppData\\Local\\Temp\\ipykernel_150612\\3766560675.py:13: SettingWithCopyWarning: \n",
      "A value is trying to be set on a copy of a slice from a DataFrame.\n",
      "Try using .loc[row_indexer,col_indexer] = value instead\n",
      "\n",
      "See the caveats in the documentation: https://pandas.pydata.org/pandas-docs/stable/user_guide/indexing.html#returning-a-view-versus-a-copy\n",
      "  df_only_menaps['_merge'] = 'MENAPS_ONLY'\n",
      "C:\\Users\\gcorin\\AppData\\Local\\Temp\\ipykernel_150612\\3766560675.py:20: SettingWithCopyWarning: \n",
      "A value is trying to be set on a copy of a slice from a DataFrame.\n",
      "Try using .loc[row_indexer,col_indexer] = value instead\n",
      "\n",
      "See the caveats in the documentation: https://pandas.pydata.org/pandas-docs/stable/user_guide/indexing.html#returning-a-view-versus-a-copy\n",
      "  df_both['_merge'] = 'BOTH'\n"
     ]
    },
    {
     "name": "stdout",
     "output_type": "stream",
     "text": [
      "values ONLY DATABRICK =  1567\n",
      "values ONLY MENAPS =  2944\n",
      "values BOTH into first merge =  7583\n",
      "values BOTH into second merge =  7583\n"
     ]
    }
   ],
   "source": [
    "test_similarity = verify_similarity(df_databrick, df_menaps, ['ID_NODE', 'ID_NODE_PARENT'])\n",
    "\n",
    "test_similarity.to_csv(r\"C:\\Users\\gcorin\\Documents\\JDMB_etl\\datas\\DATABRICK\\CODEP\\comparaison_menaps_databrick_files\\tests_similarity\\compare_similarity.csv\", index=False)"
   ]
  },
  {
   "cell_type": "code",
   "execution_count": null,
   "id": "0d7c2e75",
   "metadata": {},
   "outputs": [],
   "source": []
  }
 ],
 "metadata": {
  "kernelspec": {
   "display_name": "Python 3 (ipykernel)",
   "language": "python",
   "name": "python3"
  },
  "language_info": {
   "codemirror_mode": {
    "name": "ipython",
    "version": 3
   },
   "file_extension": ".py",
   "mimetype": "text/x-python",
   "name": "python",
   "nbconvert_exporter": "python",
   "pygments_lexer": "ipython3",
   "version": "3.12.4"
  }
 },
 "nbformat": 4,
 "nbformat_minor": 5
}
