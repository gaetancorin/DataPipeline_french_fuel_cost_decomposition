{
 "cells": [
  {
   "cell_type": "code",
   "execution_count": 1,
   "id": "16b4a901-d780-4494-a0dd-c51c73b6e5a6",
   "metadata": {},
   "outputs": [
    {
     "name": "stdout",
     "output_type": "stream",
     "text": [
      "YF.download() has changed argument auto_adjust default to True\n"
     ]
    },
    {
     "name": "stderr",
     "output_type": "stream",
     "text": [
      "[*********************100%***********************]  1 of 1 completed\n"
     ]
    }
   ],
   "source": [
    "import yfinance as yf\n",
    "\n",
    "# Télécharger les données historiques\n",
    "ticker = \"TTE.PA\"\n",
    "df = yf.download(ticker, start=\"2022-01-01\", end=\"2025-01-01\")  # Ajuste les dates si besoin"
   ]
  },
  {
   "cell_type": "code",
   "execution_count": 2,
   "id": "afd9f2dc-50ce-40ac-a16b-e35a8cfea42d",
   "metadata": {},
   "outputs": [
    {
     "name": "stdout",
     "output_type": "stream",
     "text": [
      "Price       Date      Close       High        Low       Open   Volume\n",
      "0     2022-01-03  37.832672  38.152217  37.273464  37.319715  5436592\n",
      "1     2022-01-04  38.152218  38.324607  37.841081  38.030285  5584211\n",
      "2     2022-01-05  38.610516  38.925858  38.227899  38.320400  5641479\n",
      "3     2022-01-06  38.627342  39.043593  38.026089  38.169043  5444172\n",
      "4     2022-01-07  39.068810  39.274835  38.757673  38.913243  5732405\n",
      "..           ...        ...        ...        ...        ...      ...\n",
      "763   2024-12-23  51.082497  51.259833  50.836197  51.151460  2821732\n",
      "764   2024-12-24  51.240128  51.555394  51.161314  51.230277  1155606\n",
      "765   2024-12-27  51.969177  51.969177  51.309097  51.338651  3494132\n",
      "766   2024-12-30  51.821396  51.998732  51.506133  51.535691  3167621\n",
      "767   2024-12-31  52.579998  52.579998  51.791841  51.841100  1503880\n",
      "\n",
      "[768 rows x 6 columns]\n",
      "Index(['Date', 'Close', 'High', 'Low', 'Open', 'Volume'], dtype='object', name='Price')\n"
     ]
    }
   ],
   "source": [
    "df.columns = df.columns.droplevel(1)\n",
    "df.reset_index(inplace=True)\n",
    "df.index.name = None\n",
    "\n",
    "# Afficher les premières lignes\n",
    "print(df)\n",
    "print(df.columns)"
   ]
  },
  {
   "cell_type": "code",
   "execution_count": null,
   "id": "77887b4f-979b-4138-945c-fc736ab49331",
   "metadata": {},
   "outputs": [],
   "source": []
  }
 ],
 "metadata": {
  "kernelspec": {
   "display_name": "Python 3.11 (python311)",
   "language": "python",
   "name": "python311"
  },
  "language_info": {
   "codemirror_mode": {
    "name": "ipython",
    "version": 3
   },
   "file_extension": ".py",
   "mimetype": "text/x-python",
   "name": "python",
   "nbconvert_exporter": "python",
   "pygments_lexer": "ipython3",
   "version": "3.11.10"
  }
 },
 "nbformat": 4,
 "nbformat_minor": 5
}
