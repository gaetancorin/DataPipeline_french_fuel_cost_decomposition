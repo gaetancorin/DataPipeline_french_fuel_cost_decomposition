{
 "cells": [
  {
   "cell_type": "code",
   "execution_count": 6,
   "id": "16b4a901-d780-4494-a0dd-c51c73b6e5a6",
   "metadata": {},
   "outputs": [],
   "source": [
    "import yfinance as yf\n",
    "import os\n",
    "\n",
    "# ALL YEARS (consuming 0.37 GO)\n",
    "# years = ['2007', '2008', '2009', '2010', '2011', '2012', '2013', '2014', '2015', '2016', '2017', '2018', '2019', '2020', '2021', '2022', '2023', '2024', '2025']\n",
    "# ONE YEARS:\n",
    "years = ['2007']"
   ]
  },
  {
   "cell_type": "code",
   "execution_count": 7,
   "id": "0c7dbd1c",
   "metadata": {},
   "outputs": [
    {
     "name": "stderr",
     "output_type": "stream",
     "text": [
      "\r",
      "[*********************100%***********************]  1 of 1 completed"
     ]
    },
    {
     "name": "stdout",
     "output_type": "stream",
     "text": [
      "LOAD 2007\n",
      "Index(['Date', 'Close', 'High', 'Low', 'Open', 'Volume'], dtype='object', name='Price')\n",
      "Price       Date  Close   High    Low   Open  Volume\n",
      "0     2007-07-30  75.74  76.53  75.44  75.85    2575\n",
      "1     2007-07-31  77.05  77.17  75.67  75.70    3513\n",
      "2     2007-08-01  75.35  77.06  74.86  77.00    3930\n",
      "3     2007-08-02  75.76  76.21  74.27  75.22    6180\n",
      "4     2007-08-03  74.75  76.00  74.53  75.39    4387\n",
      "..           ...    ...    ...    ...    ...     ...\n",
      "102   2007-12-21  92.46  92.92  90.71  90.76     885\n",
      "103   2007-12-24  92.70  92.35  91.38  92.27      87\n",
      "104   2007-12-26  93.94  95.04  92.84  93.08    1335\n",
      "105   2007-12-27  94.78  95.86  93.57  94.11    1453\n",
      "106   2007-12-28  93.88  95.85  93.85  95.19    1108\n",
      "\n",
      "[107 rows x 6 columns]\n",
      "local save complete for 2007\n"
     ]
    },
    {
     "name": "stderr",
     "output_type": "stream",
     "text": [
      "\n"
     ]
    }
   ],
   "source": [
    "for year in years:\n",
    "    print(\"LOAD\", year)\n",
    "\n",
    "    # Télécharger les données historiques du Brent (BZ=F)\n",
    "    ticker_brent = \"BZ=F\"\n",
    "    df_brent = yf.download(ticker_brent, start=(year+\"-01-01\"), end=year+\"-12-31\", auto_adjust=False)\n",
    "\n",
    "    df_brent.columns = df_brent.columns.droplevel(1)\n",
    "    df_brent.reset_index(inplace=True)\n",
    "    df_brent.index.name = None\n",
    "\n",
    "    df_brent[\"Close\"] = df_brent[\"Close\"].round(3)\n",
    "    df_brent[\"High\"] = df_brent[\"High\"].round(3)\n",
    "    df_brent[\"Low\"] = df_brent[\"Low\"].round(3)\n",
    "    df_brent[\"Open\"] = df_brent[\"Open\"].round(3)\n",
    "    df_brent = df_brent.drop(columns=[\"Adj Close\"])\n",
    "\n",
    "    # Afficher les premières lignes\n",
    "    print(df_brent.columns)\n",
    "    print(df_brent)\n",
    "\n",
    "\n",
    "\n",
    "    ########### SAVE DF TO CSV ###################\n",
    "\n",
    "    os.makedirs(\"results/inputs_csv_brent\", exist_ok=True)\n",
    "    df_brent.to_csv(f\"results/inputs_csv_brent/PriceBrent_\"+year+\".csv\", index=False)\n",
    "    print(\"local save complete for\", year)"
   ]
  },
  {
   "cell_type": "code",
   "execution_count": null,
   "id": "f6a7c0e0",
   "metadata": {},
   "outputs": [],
   "source": []
  }
 ],
 "metadata": {
  "kernelspec": {
   "display_name": "Python 3 (ipykernel)",
   "language": "python",
   "name": "python3"
  },
  "language_info": {
   "codemirror_mode": {
    "name": "ipython",
    "version": 3
   },
   "file_extension": ".py",
   "mimetype": "text/x-python",
   "name": "python",
   "nbconvert_exporter": "python",
   "pygments_lexer": "ipython3",
   "version": "3.11.5"
  }
 },
 "nbformat": 4,
 "nbformat_minor": 5
}
