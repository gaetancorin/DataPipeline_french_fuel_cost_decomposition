{
 "cells": [
  {
   "cell_type": "code",
   "execution_count": 2,
   "id": "1f409234",
   "metadata": {
    "scrolled": true
   },
   "outputs": [
    {
     "name": "stdout",
     "output_type": "stream",
     "text": [
      "YEAR:  2007\n",
      "        date     nom   latitude  longitude    cp                  ville  \\\n",
      "0 2007-01-04  Gazole  4620114.0   519791.0  1000  SAINT-DENIS-LèS-BOURG   \n",
      "1 2007-01-04    SP95  4620114.0   519791.0  1000  SAINT-DENIS-LèS-BOURG   \n",
      "2 2007-01-09  Gazole  4620114.0   519791.0  1000  SAINT-DENIS-LèS-BOURG   \n",
      "3 2007-01-09    SP95  4620114.0   519791.0  1000  SAINT-DENIS-LèS-BOURG   \n",
      "4 2007-01-12  Gazole  4620114.0   519791.0  1000  SAINT-DENIS-LèS-BOURG   \n",
      "\n",
      "           adresse  valeur  heuremin  gas_station_id       date2  \n",
      "0  ROUTE NATIONALE   999.0  18:43:00         1000001  2007_01_04  \n",
      "1  ROUTE NATIONALE  1170.0  18:43:00         1000001  2007_01_04  \n",
      "2  ROUTE NATIONALE   999.0  08:32:00         1000001  2007_01_09  \n",
      "3  ROUTE NATIONALE  1160.0  08:32:00         1000001  2007_01_09  \n",
      "4  ROUTE NATIONALE   989.0  08:42:00         1000001  2007_01_12  \n",
      "date              datetime64[ns]\n",
      "nom                       object\n",
      "latitude                 float64\n",
      "longitude                float64\n",
      "cp                         int64\n",
      "ville                     object\n",
      "adresse                   object\n",
      "valeur                   float64\n",
      "heuremin                  object\n",
      "gas_station_id             int64\n",
      "date2                     object\n",
      "dtype: object\n",
      "correctly loaded 2007 csv to MongoDB\n"
     ]
    }
   ],
   "source": [
    "import pandas as pd\n",
    "import os\n",
    "import warnings\n",
    "import pymongo\n",
    "import json\n",
    "import datetime\n",
    "\n",
    "pd.options.mode.chained_assignment = None\n",
    "warnings.filterwarnings('ignore', category=RuntimeWarning)\n",
    "\n",
    "for i in range(1): # one year only\n",
    "    year = 2007\n",
    "    print(\"YEAR: \", year)\n",
    "    \n",
    "    file_path = f\"results/inputs_csv_zscore_last/PrixCarburants_annuel_filtered_{year}.csv\"\n",
    "    \n",
    "    if not os.path.exists(file_path):\n",
    "        print(f\"Le fichier {file_path} n'existe pas.\")\n",
    "    else:\n",
    "        df = pd.read_csv(file_path)\n",
    "        df['date2'] = df['date']\n",
    "        df['date'] = pd.to_datetime(df['date'], format='%Y_%m_%d')\n",
    "        df['heuremin'] = pd.to_datetime(df['heuremin'], format='%H:%M').dt.strftime('%H:%M:%S')\n",
    "        print(df.head(5))\n",
    "        print(df.dtypes)\n",
    "        \n",
    "        # Setup MongoDB connection (local)\n",
    "        mongo_host = \"mongodb://localhost\"\n",
    "        mongo_port = 27017\n",
    "        client_mongo = pymongo.MongoClient(host=mongo_host, port=mongo_port)\n",
    "        \n",
    "        db_mongo = client_mongo.get_database(\"gas_station_price\")\n",
    "        collection_mongo = db_mongo.get_collection(\"gas_station_price\")\n",
    "        \n",
    "        records = df.to_dict(orient=\"records\")\n",
    "        collection_mongo.insert_many(records)\n",
    "        print(\"correctly loaded\", year, \"csv to MongoDB\")"
   ]
  },
  {
   "cell_type": "code",
   "execution_count": null,
   "id": "df82d2e2",
   "metadata": {},
   "outputs": [],
   "source": []
  }
 ],
 "metadata": {
  "kernelspec": {
   "display_name": "Python 3 (ipykernel)",
   "language": "python",
   "name": "python3"
  },
  "language_info": {
   "codemirror_mode": {
    "name": "ipython",
    "version": 3
   },
   "file_extension": ".py",
   "mimetype": "text/x-python",
   "name": "python",
   "nbconvert_exporter": "python",
   "pygments_lexer": "ipython3",
   "version": "3.11.5"
  }
 },
 "nbformat": 4,
 "nbformat_minor": 5
}
