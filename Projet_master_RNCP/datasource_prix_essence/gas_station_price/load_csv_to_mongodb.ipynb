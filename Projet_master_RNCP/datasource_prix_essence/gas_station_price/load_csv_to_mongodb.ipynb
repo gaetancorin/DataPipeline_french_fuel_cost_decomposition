{
 "cells": [
  {
   "cell_type": "code",
   "execution_count": 18,
   "id": "3dba17a9",
   "metadata": {},
   "outputs": [
    {
     "name": "stdout",
     "output_type": "stream",
     "text": [
      "YEAR:  2007\n",
      "        id       date     nom   latitude  longitude    cp  \\\n",
      "0  1000001 2007-01-04  Gazole  4620114.0   519791.0  1000   \n",
      "1  1000001 2007-01-04    SP95  4620114.0   519791.0  1000   \n",
      "2  1000001 2007-01-09  Gazole  4620114.0   519791.0  1000   \n",
      "3  1000001 2007-01-09    SP95  4620114.0   519791.0  1000   \n",
      "4  1000001 2007-01-12  Gazole  4620114.0   519791.0  1000   \n",
      "\n",
      "                   ville          adresse  valeur  heuremin  \n",
      "0  SAINT-DENIS-LèS-BOURG  ROUTE NATIONALE   999.0  18:43:00  \n",
      "1  SAINT-DENIS-LèS-BOURG  ROUTE NATIONALE  1170.0  18:43:00  \n",
      "2  SAINT-DENIS-LèS-BOURG  ROUTE NATIONALE   999.0  08:32:00  \n",
      "3  SAINT-DENIS-LèS-BOURG  ROUTE NATIONALE  1160.0  08:32:00  \n",
      "4  SAINT-DENIS-LèS-BOURG  ROUTE NATIONALE   989.0  08:42:00  \n",
      "id                    int64\n",
      "date         datetime64[ns]\n",
      "nom                  object\n",
      "latitude            float64\n",
      "longitude           float64\n",
      "cp                    int64\n",
      "ville                object\n",
      "adresse              object\n",
      "valeur              float64\n",
      "heuremin             object\n",
      "dtype: object\n",
      "correctly loaded 2007 csv to MongoDB\n"
     ]
    }
   ],
   "source": [
    "import pandas as pd\n",
    "import os\n",
    "import warnings\n",
    "import pymongo\n",
    "import json\n",
    "\n",
    "pd.options.mode.chained_assignment = None\n",
    "warnings.filterwarnings('ignore', category=RuntimeWarning)\n",
    "\n",
    "for i in range(1): # one year only\n",
    "    year = 2007\n",
    "    print(\"YEAR: \", year)\n",
    "    \n",
    "    file_path = f\"results/inputs_csv_zscore_last/PrixCarburants_annuel_filtered_{year}.csv\"\n",
    "    \n",
    "    if not os.path.exists(file_path):\n",
    "        print(f\"Le fichier {file_path} n'existe pas.\")\n",
    "    else:\n",
    "        df = pd.read_csv(file_path)\n",
    "        df['date'] = pd.to_datetime(df['date'], format='%Y_%m_%d')\n",
    "        df['heuremin'] = pd.to_datetime(df['heuremin'], format='%H:%M').dt.time\n",
    "        print(df.head(5))\n",
    "        print(df.dtypes)\n",
    "        \n",
    "        # Setup MongoDB connection (local)\n",
    "        mongo_host = \"mongodb://localhost\"\n",
    "        mongo_port = 27017\n",
    "        client_mongo = pymongo.MongoClient(host=mongo_host, port=mongo_port)\n",
    "        \n",
    "        db_mongo = client_mongo.get_database(\"gas_station_price\")\n",
    "        collection_mongo = db_mongo.get_collection(\"gas_station_price\")\n",
    "        \n",
    "        records = json.loads(df.to_json(orient=\"records\"))\n",
    "        collection_mongo.insert_many(records)\n",
    "        print(\"correctly loaded\", year, \"csv to MongoDB\")"
   ]
  },
  {
   "cell_type": "code",
   "execution_count": null,
   "id": "eed0bd62",
   "metadata": {},
   "outputs": [],
   "source": []
  }
 ],
 "metadata": {
  "kernelspec": {
   "display_name": "Python 3 (ipykernel)",
   "language": "python",
   "name": "python3"
  },
  "language_info": {
   "codemirror_mode": {
    "name": "ipython",
    "version": 3
   },
   "file_extension": ".py",
   "mimetype": "text/x-python",
   "name": "python",
   "nbconvert_exporter": "python",
   "pygments_lexer": "ipython3",
   "version": "3.11.5"
  }
 },
 "nbformat": 4,
 "nbformat_minor": 5
}
