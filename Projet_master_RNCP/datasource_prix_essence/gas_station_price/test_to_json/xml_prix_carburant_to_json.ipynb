{
 "cells": [
  {
   "cell_type": "code",
   "execution_count": 1,
   "id": "251c1a88-ec28-4252-a128-fc10d7d0a2b2",
   "metadata": {},
   "outputs": [
    {
     "name": "stdout",
     "output_type": "stream",
     "text": [
      "<Response [200]>\n",
      "PrixCarburants_annuel_2024.xml\n",
      "PrixCarburants_annuel_2024.xml extracted\n"
     ]
    }
   ],
   "source": [
    "import requests\n",
    "from pprint import pprint\n",
    "import pandas as pd\n",
    "import zipfile\n",
    "import io\n",
    "import json\n",
    "import os\n",
    "os.makedirs(\"results/inputs_extracted_xml\", exist_ok=True)\n",
    "year = \"2024\"\n",
    "\n",
    "# Source = \"https://www.prix-carburants.gouv.fr/rubrique/opendata/\" (site gouvernemental)\n",
    "url = f\"https://donnees.roulez-eco.fr/opendata/annee/{year}\"\n",
    "\n",
    "response = requests.get(url)\n",
    "print(response)\n",
    "\n",
    "zip_file = zipfile.ZipFile(io.BytesIO(response.content))\n",
    "file_name = zip_file.namelist()[0]\n",
    "print(file_name)\n",
    "\n",
    "with zipfile.ZipFile(io.BytesIO(response.content), 'r') as zip_ref:\n",
    "    zip_ref.extractall(\"results/inputs_extracted_xml\")\n",
    "print(file_name, \"extracted\")"
   ]
  },
  {
   "cell_type": "code",
   "execution_count": 2,
   "id": "670457cc-5c98-4201-a8eb-633b98c86cec",
   "metadata": {},
   "outputs": [
    {
     "name": "stdout",
     "output_type": "stream",
     "text": [
      "[\n",
      "    {\n",
      "        \"id\": \"1000001\",\n",
      "        \"latitude\n"
     ]
    }
   ],
   "source": [
    "import xml.etree.ElementTree as ET\n",
    "\n",
    "tree = ET.parse(f\"results/inputs_extracted_xml/PrixCarburants_annuel_{year}.xml\")\n",
    "\n",
    "# Obtenir la racine du fichier XML\n",
    "root = tree.getroot()\n",
    "\n",
    "data = []\n",
    "for pdv in root.findall(\"pdv\"):\n",
    "    station = {\n",
    "        \"id\": pdv.get(\"id\"),\n",
    "        \"latitude\": pdv.get(\"latitude\"),\n",
    "        \"longitude\": pdv.get(\"longitude\"),\n",
    "        \"cp\": pdv.get(\"cp\"),\n",
    "        \"ville\": pdv.find(\"ville\").text,\n",
    "        \"adresse\": pdv.find(\"adresse\").text,\n",
    "        # \"services\": [s.text for s in pdv.find(\"services\")],\n",
    "        \"prix\": [\n",
    "            {\n",
    "                \"nom\": p.get(\"nom\"),\n",
    "                \"maj\": p.get(\"maj\"),\n",
    "                \"valeur\": float(p.get(\"valeur\")) if p.get(\"valeur\") is not None else None\n",
    "            }\n",
    "            for p in pdv.findall(\"prix\")\n",
    "        ],\n",
    "    }\n",
    "    data.append(station)\n",
    "\n",
    "# Convertir en JSON\n",
    "json_data = json.dumps(data, indent=4, ensure_ascii=False)\n",
    "\n",
    "# Sauvegarder si besoin\n",
    "os.makedirs(\"results/inputs_json\", exist_ok=True)\n",
    "with open(f\"results/inputs_json/PrixCarburants_annuel_{year}.json\", \"w\", encoding=\"utf-8\") as f:\n",
    "    f.write(json_data)\n",
    "\n",
    "print(json_data[:50])  # Afficher un aperçu"
   ]
  },
  {
   "cell_type": "code",
   "execution_count": null,
   "id": "ab196bc1-26ce-4adf-b6b9-71981c4aef32",
   "metadata": {},
   "outputs": [],
   "source": []
  }
 ],
 "metadata": {
  "kernelspec": {
   "display_name": "Python 3.11 (python311)",
   "language": "python",
   "name": "python311"
  },
  "language_info": {
   "codemirror_mode": {
    "name": "ipython",
    "version": 3
   },
   "file_extension": ".py",
   "mimetype": "text/x-python",
   "name": "python",
   "nbconvert_exporter": "python",
   "pygments_lexer": "ipython3",
   "version": "3.11.10"
  }
 },
 "nbformat": 4,
 "nbformat_minor": 5
}
