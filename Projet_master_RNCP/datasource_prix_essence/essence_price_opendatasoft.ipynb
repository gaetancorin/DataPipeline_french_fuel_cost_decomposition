{
 "cells": [
  {
   "cell_type": "markdown",
   "id": "4bf3e87c-3d65-4ffc-9a10-70196b0da80b",
   "metadata": {},
   "source": [
    "# Exemple de query du streamingdata de Opendatasoft"
   ]
  },
  {
   "cell_type": "code",
   "execution_count": 17,
   "id": "f899e0c5-3922-4396-bdd6-80b028fbd8d7",
   "metadata": {},
   "outputs": [
    {
     "name": "stdout",
     "output_type": "stream",
     "text": [
      "{'total_count': 10007, 'results': [{'id': 2300002, 'latitude': '4959100', 'longitude': '323400', 'cp': '02300', 'pop': 'R', 'adresse': 'CHEMIN DEPARTEMENTAL 937', 'ville': 'Autreville', 'services': '{\"service\": [\"Laverie\", \"Relais colis\"]}', 'prix': '[{\"@nom\": \"Gazole\", \"@id\": \"1\", \"@maj\": \"2025-02-14 09:19:58\", \"@valeur\": \"1.712\"}, {\"@nom\": \"SP95\", \"@id\": \"2\", \"@maj\": \"2025-02-14 09:19:58\", \"@valeur\": \"1.815\"}, {\"@nom\": \"SP98\", \"@id\": \"6\", \"@maj\": \"2025-02-14 09:19:58\", \"@valeur\": \"1.854\"}]', 'rupture': None, 'horaires': '{\"@automate-24-24\": \"\", \"jour\": [{\"@id\": \"1\", \"@nom\": \"Lundi\", \"@ferme\": \"\"}, {\"@id\": \"2\", \"@nom\": \"Mardi\", \"@ferme\": \"\"}, {\"@id\": \"3\", \"@nom\": \"Mercredi\", \"@ferme\": \"\"}, {\"@id\": \"4\", \"@nom\": \"Jeudi\", \"@ferme\": \"\"}, {\"@id\": \"5\", \"@nom\": \"Vendredi\", \"@ferme\": \"\"}, {\"@id\": \"6\", \"@nom\": \"Samedi\", \"@ferme\": \"\"}, {\"@id\": \"7\", \"@nom\": \"Dimanche\", \"@ferme\": \"\"}]}', 'geom': {'lon': 3.234, 'lat': 49.591}, 'gazole_maj': '2025-02-14T09:19:58+00:00', 'gazole_prix': 1.712, 'sp95_maj': '2025-02-14T09:19:58+00:00', 'sp95_prix': 1.815, 'e85_maj': None, 'e85_prix': None, 'gplc_maj': None, 'gplc_prix': None, 'e10_maj': None, 'e10_prix': None, 'sp98_maj': '2025-02-14T09:19:58+00:00', 'sp98_prix': 1.854, 'e10_rupture_debut': None, 'e10_rupture_type': None, 'sp98_rupture_debut': None, 'sp98_rupture_type': None, 'sp95_rupture_debut': None, 'sp95_rupture_type': None, 'e85_rupture_debut': None, 'e85_rupture_type': None, 'gplc_rupture_debut': None, 'gplc_rupture_type': None, 'gazole_rupture_debut': None, 'gazole_rupture_type': None, 'carburants_disponibles': ['Gazole', 'SP95', 'SP98'], 'carburants_indisponibles': ['E85', 'GPLc', 'E10'], 'carburants_rupture_temporaire': None, 'carburants_rupture_definitive': None, 'horaires_automate_24_24': 'Non', 'services_service': ['Laverie', 'Relais colis'], 'departement': 'Aisne', 'code_departement': '02', 'region': 'Hauts-de-France', 'code_region': '32', 'horaires_jour': None}, {'id': 71540001, 'latitude': '4704522', 'longitude': '437921', 'cp': '71540', 'pop': 'R', 'adresse': 'Le Bourg', 'ville': 'Igornay', 'services': None, 'prix': '[{\"@nom\": \"Gazole\", \"@id\": \"1\", \"@maj\": \"2025-01-19 17:16:32\", \"@valeur\": \"1.730\"}, {\"@nom\": \"SP95\", \"@id\": \"2\", \"@maj\": \"2024-10-17 05:53:42\", \"@valeur\": \"1.810\"}, {\"@nom\": \"SP98\", \"@id\": \"6\", \"@maj\": \"2024-10-17 05:53:43\", \"@valeur\": \"1.890\"}]', 'rupture': '{\"@nom\": \"E10\", \"@id\": \"5\", \"@debut\": \"2022-10-11 09:26:41\", \"@fin\": \"\", \"@type\": \"definitive\"}', 'horaires': None, 'geom': {'lon': 4.37921, 'lat': 47.04522}, 'gazole_maj': '2025-01-19T17:16:32+00:00', 'gazole_prix': 1.73, 'sp95_maj': '2024-10-17T05:53:42+00:00', 'sp95_prix': 1.81, 'e85_maj': None, 'e85_prix': None, 'gplc_maj': None, 'gplc_prix': None, 'e10_maj': None, 'e10_prix': None, 'sp98_maj': '2024-10-17T05:53:43+00:00', 'sp98_prix': 1.89, 'e10_rupture_debut': '2022-10-11T09:26:41+00:00', 'e10_rupture_type': 'definitive', 'sp98_rupture_debut': None, 'sp98_rupture_type': None, 'sp95_rupture_debut': None, 'sp95_rupture_type': None, 'e85_rupture_debut': None, 'e85_rupture_type': None, 'gplc_rupture_debut': None, 'gplc_rupture_type': None, 'gazole_rupture_debut': None, 'gazole_rupture_type': None, 'carburants_disponibles': ['Gazole', 'SP95', 'SP98'], 'carburants_indisponibles': ['E85', 'GPLc', 'E10'], 'carburants_rupture_temporaire': None, 'carburants_rupture_definitive': 'E10', 'horaires_automate_24_24': 'Non', 'services_service': None, 'departement': 'Saône-et-Loire', 'code_departement': '71', 'region': 'Bourgogne-Franche-Comté', 'code_region': '27', 'horaires_jour': None}]}\n",
      "\n",
      "{'adresse': 'CHEMIN DEPARTEMENTAL 937',\n",
      " 'carburants_disponibles': ['Gazole', 'SP95', 'SP98'],\n",
      " 'carburants_indisponibles': ['E85', 'GPLc', 'E10'],\n",
      " 'carburants_rupture_definitive': None,\n",
      " 'carburants_rupture_temporaire': None,\n",
      " 'code_departement': '02',\n",
      " 'code_region': '32',\n",
      " 'cp': '02300',\n",
      " 'departement': 'Aisne',\n",
      " 'e10_maj': None,\n",
      " 'e10_prix': None,\n",
      " 'e10_rupture_debut': None,\n",
      " 'e10_rupture_type': None,\n",
      " 'e85_maj': None,\n",
      " 'e85_prix': None,\n",
      " 'e85_rupture_debut': None,\n",
      " 'e85_rupture_type': None,\n",
      " 'gazole_maj': '2025-02-14T09:19:58+00:00',\n",
      " 'gazole_prix': 1.712,\n",
      " 'gazole_rupture_debut': None,\n",
      " 'gazole_rupture_type': None,\n",
      " 'geom': {'lat': 49.591, 'lon': 3.234},\n",
      " 'gplc_maj': None,\n",
      " 'gplc_prix': None,\n",
      " 'gplc_rupture_debut': None,\n",
      " 'gplc_rupture_type': None,\n",
      " 'horaires': '{\"@automate-24-24\": \"\", \"jour\": [{\"@id\": \"1\", \"@nom\": \"Lundi\", '\n",
      "             '\"@ferme\": \"\"}, {\"@id\": \"2\", \"@nom\": \"Mardi\", \"@ferme\": \"\"}, '\n",
      "             '{\"@id\": \"3\", \"@nom\": \"Mercredi\", \"@ferme\": \"\"}, {\"@id\": \"4\", '\n",
      "             '\"@nom\": \"Jeudi\", \"@ferme\": \"\"}, {\"@id\": \"5\", \"@nom\": \"Vendredi\", '\n",
      "             '\"@ferme\": \"\"}, {\"@id\": \"6\", \"@nom\": \"Samedi\", \"@ferme\": \"\"}, '\n",
      "             '{\"@id\": \"7\", \"@nom\": \"Dimanche\", \"@ferme\": \"\"}]}',\n",
      " 'horaires_automate_24_24': 'Non',\n",
      " 'horaires_jour': None,\n",
      " 'id': 2300002,\n",
      " 'latitude': '4959100',\n",
      " 'longitude': '323400',\n",
      " 'pop': 'R',\n",
      " 'prix': '[{\"@nom\": \"Gazole\", \"@id\": \"1\", \"@maj\": \"2025-02-14 09:19:58\", '\n",
      "         '\"@valeur\": \"1.712\"}, {\"@nom\": \"SP95\", \"@id\": \"2\", \"@maj\": '\n",
      "         '\"2025-02-14 09:19:58\", \"@valeur\": \"1.815\"}, {\"@nom\": \"SP98\", \"@id\": '\n",
      "         '\"6\", \"@maj\": \"2025-02-14 09:19:58\", \"@valeur\": \"1.854\"}]',\n",
      " 'region': 'Hauts-de-France',\n",
      " 'rupture': None,\n",
      " 'services': '{\"service\": [\"Laverie\", \"Relais colis\"]}',\n",
      " 'services_service': ['Laverie', 'Relais colis'],\n",
      " 'sp95_maj': '2025-02-14T09:19:58+00:00',\n",
      " 'sp95_prix': 1.815,\n",
      " 'sp95_rupture_debut': None,\n",
      " 'sp95_rupture_type': None,\n",
      " 'sp98_maj': '2025-02-14T09:19:58+00:00',\n",
      " 'sp98_prix': 1.854,\n",
      " 'sp98_rupture_debut': None,\n",
      " 'sp98_rupture_type': None,\n",
      " 'ville': 'Autreville'}\n"
     ]
    }
   ],
   "source": [
    "import requests\n",
    "from pprint import pprint\n",
    "\n",
    "# Source de opendatasoft = \"https://donnees.roulez-eco.fr/opendata/instantane\" (site gouvernemental rattaché à https://www.prix-carburants.gouv.fr/)\n",
    "url = \"https://data.opendatasoft.com/api/explore/v2.1/catalog/datasets/prix-des-carburants-en-france-flux-instantane-v2@opendatamef/records?limit=2\"\n",
    "\n",
    "request = requests.get(url)\n",
    "response = request.json()\n",
    "print(response)\n",
    "print(\"\")\n",
    "pprint(response['results'][0])"
   ]
  },
  {
   "cell_type": "markdown",
   "id": "d5e409d5-0897-4b35-be95-34978471b94d",
   "metadata": {},
   "source": [
    "# Test des filtres"
   ]
  },
  {
   "cell_type": "code",
   "execution_count": 24,
   "id": "f5d8c321-435d-4899-a11c-40e3782e2c25",
   "metadata": {},
   "outputs": [],
   "source": [
    "# Dictionnaire de query\n",
    "# > === %3E\n",
    "# < === %3C\n",
    "# = === %3D\n",
    "# \" === %22\n",
    "# (espace) === %20\n",
    "\n",
    "# Exemple\n",
    "# gazole_maj<=\"2025-02-14T00:00:00Z\"\n",
    "# gazole_maj%3C%3D%222025-02-14T00%3A00%3A00Z%22\n",
    "\n",
    "# gazole_maj>=\"2025-02-14T00:00:00Z\"\n",
    "# gazole_maj%3E%3D%222025-02-14T00%3A00%3A00Z%22"
   ]
  },
  {
   "cell_type": "markdown",
   "id": "df202583-7bf7-4142-ab5d-4979695a842e",
   "metadata": {},
   "source": [
    "### Filtrage sur \"Avant une date\""
   ]
  },
  {
   "cell_type": "code",
   "execution_count": 50,
   "id": "8204bf57-85dc-4a41-ad33-c37b2546d32c",
   "metadata": {},
   "outputs": [
    {
     "name": "stdout",
     "output_type": "stream",
     "text": [
      "13 existing values\n",
      "'2023-12-18T19:58:44+00:00'\n"
     ]
    }
   ],
   "source": [
    "# gazole_maj<\"2025-02-14T00:00:00Z\"   &  limite=2\n",
    "# ?where=gazole_maj%3C%3D%222025-02-14T00%3A00%3A00Z%22&limit=2\n",
    "# url = \"https://data.opendatasoft.com/api/explore/v2.1/catalog/datasets/prix-des-carburants-en-france-flux-instantane-v2@opendatamef/records?where=gazole_maj%3C%222025-02-14T00%3A00%3A00Z%22&limit=2\"\n",
    "url = \"https://data.opendatasoft.com/api/explore/v2.1/catalog/datasets/prix-des-carburants-en-france-flux-instantane-v2@opendatamef/records?where=gazole_maj%3C%222024-02-14T00%3A00%3A00Z%22&limit=2\"\n",
    "\n",
    "request = requests.get(url)\n",
    "response = request.json()\n",
    "print(response['total_count'], \"existing values\")\n",
    "pprint(response['results'][0]['gazole_maj'])"
   ]
  },
  {
   "cell_type": "markdown",
   "id": "91c258b8-dbc0-4ff2-b340-68fc92d06d8d",
   "metadata": {},
   "source": [
    "### Filtrage sur \"Après ou Pendant une date\""
   ]
  },
  {
   "cell_type": "code",
   "execution_count": 39,
   "id": "1583477b-1a90-4bdb-9d93-dbddf40d1d43",
   "metadata": {},
   "outputs": [
    {
     "name": "stdout",
     "output_type": "stream",
     "text": [
      "3915 existing values\n",
      "'2025-02-14T09:19:58+00:00'\n"
     ]
    }
   ],
   "source": [
    "# gazole_maj>=\"2025-02-14T00:00:00Z\"   &  limite=2\n",
    "# ?where=gazole_maj%3E%3D%222025-02-14T00%3A00%3A00Z%22&limit=2\n",
    "url = \"https://data.opendatasoft.com/api/explore/v2.1/catalog/datasets/prix-des-carburants-en-france-flux-instantane-v2@opendatamef/records?where=gazole_maj%3E%3D%222025-02-14T00%3A00%3A00Z%22&limit=2\"\n",
    "\n",
    "request = requests.get(url)\n",
    "response = request.json()\n",
    "print(response['total_count'], \"existing values\")\n",
    "pprint(response['results'][0]['gazole_maj'])"
   ]
  },
  {
   "cell_type": "markdown",
   "id": "9087571d-9722-4689-8519-ecdfbfa1dd00",
   "metadata": {},
   "source": [
    "### Filtrage entre 2 dates"
   ]
  },
  {
   "cell_type": "code",
   "execution_count": 41,
   "id": "8acfd43c-51bb-403f-92ed-8252f9dc1830",
   "metadata": {},
   "outputs": [
    {
     "name": "stdout",
     "output_type": "stream",
     "text": [
      "5735 existing values\n",
      "'2025-01-19T17:16:32+00:00'\n"
     ]
    }
   ],
   "source": [
    "# gazole_maj>=\"2025-02-10T00:00:00Z\" and gazole_maj<=\"2025-02-11T00:00:00Z\" & limite=2\"\n",
    "# ?where=gazole_maj%3E%3D%222025-02-10T00%3A00%3A00Z%22%20and%20gazole_maj%3C%3D%222025-02-11T00%3A00%3A00Z%22&limit=2\"\n",
    "url = \"https://data.opendatasoft.com/api/explore/v2.1/catalog/datasets/prix-des-carburants-en-france-flux-instantane-v2@opendatamef/records?where=gazole_maj%3C%3D%222025-02-14T00%3A00%3A00Z%22&limit=2\"\n",
    "\n",
    "request = requests.get(url)\n",
    "response = request.json()\n",
    "print(response['total_count'], \"existing values\")\n",
    "pprint(response['results'][0]['gazole_maj'])"
   ]
  },
  {
   "cell_type": "markdown",
   "id": "2dc7923f-546a-49de-a31f-7370d8e342d5",
   "metadata": {},
   "source": [
    "### Filtrage pour ne récupérer que la date"
   ]
  },
  {
   "cell_type": "code",
   "execution_count": 53,
   "id": "93909c5d-05b8-4546-8d80-e77d89bdc499",
   "metadata": {},
   "outputs": [
    {
     "name": "stdout",
     "output_type": "stream",
     "text": [
      "10007 existing values\n",
      "[{'gazole_maj': '2025-02-11T12:00:00+00:00'},\n",
      " {'gazole_maj': '2025-02-10T09:42:56+00:00'},\n",
      " {'gazole_maj': '2025-01-28T20:00:00+00:00'},\n",
      " {'gazole_maj': '2025-02-14T00:01:00+00:00'},\n",
      " {'gazole_maj': '2025-02-12T07:18:48+00:00'},\n",
      " {'gazole_maj': None},\n",
      " {'gazole_maj': '2025-02-10T08:53:50+00:00'},\n",
      " {'gazole_maj': '2025-02-14T08:51:27+00:00'},\n",
      " {'gazole_maj': '2025-02-12T08:49:16+00:00'},\n",
      " {'gazole_maj': '2025-02-10T13:04:57+00:00'},\n",
      " {'gazole_maj': None},\n",
      " {'gazole_maj': '2025-01-18T00:00:00+00:00'},\n",
      " {'gazole_maj': '2025-02-10T15:26:10+00:00'},\n",
      " {'gazole_maj': '2025-02-06T09:13:45+00:00'},\n",
      " {'gazole_maj': '2025-02-14T00:01:00+00:00'},\n",
      " {'gazole_maj': '2025-02-11T09:27:20+00:00'},\n",
      " {'gazole_maj': '2025-02-14T08:54:46+00:00'},\n",
      " {'gazole_maj': '2025-02-12T09:14:31+00:00'},\n",
      " {'gazole_maj': '2025-02-13T08:21:18+00:00'},\n",
      " {'gazole_maj': '2025-01-29T14:01:11+00:00'}]\n"
     ]
    }
   ],
   "source": [
    "#(SELECT) gazole_maj &  limite=2\n",
    "# ?where=gazole_maj&limit=2\n",
    "url = \"https://data.opendatasoft.com/api/explore/v2.1/catalog/datasets/prix-des-carburants-en-france-flux-instantane-v2@opendatamef/records?select=gazole_maj&limit=20\"\n",
    "\n",
    "request = requests.get(url)\n",
    "response = request.json()\n",
    "print(response['total_count'], \"existing values\")\n",
    "pprint(response['results'])"
   ]
  },
  {
   "cell_type": "markdown",
   "id": "eaa0223c-98d1-4dd0-b072-114219c7bd3d",
   "metadata": {},
   "source": [
    " ### Connaitre la quantité de données sur la date du jour\n"
   ]
  },
  {
   "cell_type": "code",
   "execution_count": 59,
   "id": "0c6fe59a-52fb-4219-8e08-b69ae3ab28f7",
   "metadata": {},
   "outputs": [
    {
     "name": "stdout",
     "output_type": "stream",
     "text": [
      "100 existing values\n",
      "[{'gazole_maj': '2025-02-01T18:41:41+00:00'},\n",
      " {'gazole_maj': '2025-02-01T06:03:37+00:00'},\n",
      " {'gazole_maj': '2025-02-01T13:00:00+00:00'},\n",
      " {'gazole_maj': '2025-02-01T17:56:01+00:00'},\n",
      " {'gazole_maj': '2025-02-01T10:01:01+00:00'},\n",
      " {'gazole_maj': '2025-02-01T08:34:58+00:00'},\n",
      " {'gazole_maj': '2025-02-01T09:06:12+00:00'},\n",
      " {'gazole_maj': '2025-02-01T10:14:48+00:00'},\n",
      " {'gazole_maj': '2025-02-01T08:31:09+00:00'},\n",
      " {'gazole_maj': '2025-02-01T09:00:48+00:00'},\n",
      " {'gazole_maj': '2025-02-01T09:00:00+00:00'},\n",
      " {'gazole_maj': '2025-02-01T08:06:26+00:00'},\n",
      " {'gazole_maj': '2025-02-01T10:26:56+00:00'},\n",
      " {'gazole_maj': '2025-02-01T08:00:00+00:00'},\n",
      " {'gazole_maj': '2025-02-01T20:00:00+00:00'},\n",
      " {'gazole_maj': '2025-02-01T15:06:06+00:00'},\n",
      " {'gazole_maj': '2025-02-01T12:21:06+00:00'},\n",
      " {'gazole_maj': '2025-02-01T07:41:45+00:00'},\n",
      " {'gazole_maj': '2025-02-01T10:44:48+00:00'},\n",
      " {'gazole_maj': '2025-02-01T11:58:52+00:00'},\n",
      " {'gazole_maj': '2025-02-01T07:41:37+00:00'},\n",
      " {'gazole_maj': '2025-02-01T10:47:12+00:00'},\n",
      " {'gazole_maj': '2025-02-01T12:47:04+00:00'},\n",
      " {'gazole_maj': '2025-02-01T12:29:52+00:00'},\n",
      " {'gazole_maj': '2025-02-01T18:53:58+00:00'},\n",
      " {'gazole_maj': '2025-02-01T08:39:19+00:00'},\n",
      " {'gazole_maj': '2025-02-01T06:00:00+00:00'},\n",
      " {'gazole_maj': '2025-02-01T10:41:29+00:00'},\n",
      " {'gazole_maj': '2025-02-01T11:52:13+00:00'},\n",
      " {'gazole_maj': '2025-02-01T11:22:48+00:00'},\n",
      " {'gazole_maj': '2025-02-01T10:22:03+00:00'},\n",
      " {'gazole_maj': '2025-02-01T11:14:37+00:00'},\n",
      " {'gazole_maj': '2025-02-01T09:46:57+00:00'},\n",
      " {'gazole_maj': '2025-02-01T12:27:31+00:00'},\n",
      " {'gazole_maj': '2025-02-01T07:54:45+00:00'},\n",
      " {'gazole_maj': '2025-02-01T08:53:53+00:00'},\n",
      " {'gazole_maj': '2025-02-01T07:31:57+00:00'},\n",
      " {'gazole_maj': '2025-02-01T09:30:00+00:00'},\n",
      " {'gazole_maj': '2025-02-01T09:47:15+00:00'},\n",
      " {'gazole_maj': '2025-02-01T15:20:55+00:00'},\n",
      " {'gazole_maj': '2025-02-01T09:09:30+00:00'},\n",
      " {'gazole_maj': '2025-02-01T10:48:22+00:00'},\n",
      " {'gazole_maj': '2025-02-01T00:01:00+00:00'},\n",
      " {'gazole_maj': '2025-02-01T10:26:09+00:00'},\n",
      " {'gazole_maj': '2025-02-01T09:29:28+00:00'},\n",
      " {'gazole_maj': '2025-02-01T18:50:06+00:00'},\n",
      " {'gazole_maj': '2025-02-01T07:47:40+00:00'},\n",
      " {'gazole_maj': '2025-02-01T10:43:31+00:00'},\n",
      " {'gazole_maj': '2025-02-01T11:40:46+00:00'},\n",
      " {'gazole_maj': '2025-02-01T08:50:04+00:00'},\n",
      " {'gazole_maj': '2025-02-01T11:31:50+00:00'},\n",
      " {'gazole_maj': '2025-02-01T06:15:00+00:00'},\n",
      " {'gazole_maj': '2025-02-01T19:30:00+00:00'},\n",
      " {'gazole_maj': '2025-02-01T13:47:29+00:00'},\n",
      " {'gazole_maj': '2025-02-01T10:13:10+00:00'},\n",
      " {'gazole_maj': '2025-02-01T10:15:35+00:00'},\n",
      " {'gazole_maj': '2025-02-01T09:15:08+00:00'},\n",
      " {'gazole_maj': '2025-02-01T08:47:46+00:00'},\n",
      " {'gazole_maj': '2025-02-01T06:59:16+00:00'},\n",
      " {'gazole_maj': '2025-02-01T09:07:12+00:00'},\n",
      " {'gazole_maj': '2025-02-01T10:02:39+00:00'},\n",
      " {'gazole_maj': '2025-02-01T08:48:29+00:00'},\n",
      " {'gazole_maj': '2025-02-01T15:08:12+00:00'},\n",
      " {'gazole_maj': '2025-02-01T10:54:22+00:00'},\n",
      " {'gazole_maj': '2025-02-01T01:16:00+00:00'},\n",
      " {'gazole_maj': '2025-02-01T13:12:56+00:00'},\n",
      " {'gazole_maj': '2025-02-01T13:35:51+00:00'},\n",
      " {'gazole_maj': '2025-02-01T07:00:00+00:00'},\n",
      " {'gazole_maj': '2025-02-01T14:22:50+00:00'},\n",
      " {'gazole_maj': '2025-02-01T22:12:08+00:00'},\n",
      " {'gazole_maj': '2025-02-01T08:39:12+00:00'},\n",
      " {'gazole_maj': '2025-02-01T10:59:27+00:00'},\n",
      " {'gazole_maj': '2025-02-01T12:15:00+00:00'},\n",
      " {'gazole_maj': '2025-02-01T08:13:38+00:00'},\n",
      " {'gazole_maj': '2025-02-01T06:39:10+00:00'},\n",
      " {'gazole_maj': '2025-02-01T08:09:11+00:00'},\n",
      " {'gazole_maj': '2025-02-01T12:29:54+00:00'},\n",
      " {'gazole_maj': '2025-02-01T08:36:32+00:00'},\n",
      " {'gazole_maj': '2025-02-01T11:15:06+00:00'},\n",
      " {'gazole_maj': '2025-02-01T07:35:37+00:00'},\n",
      " {'gazole_maj': '2025-02-01T12:32:33+00:00'},\n",
      " {'gazole_maj': '2025-02-01T06:59:51+00:00'},\n",
      " {'gazole_maj': '2025-02-01T08:21:56+00:00'},\n",
      " {'gazole_maj': '2025-02-01T09:39:41+00:00'},\n",
      " {'gazole_maj': '2025-02-01T10:24:31+00:00'},\n",
      " {'gazole_maj': '2025-02-01T10:33:44+00:00'},\n",
      " {'gazole_maj': '2025-02-01T10:25:48+00:00'},\n",
      " {'gazole_maj': '2025-02-01T08:39:43+00:00'},\n",
      " {'gazole_maj': '2025-02-01T08:03:11+00:00'},\n",
      " {'gazole_maj': '2025-02-01T10:00:07+00:00'},\n",
      " {'gazole_maj': '2025-02-01T08:30:00+00:00'},\n",
      " {'gazole_maj': '2025-02-01T15:16:15+00:00'},\n",
      " {'gazole_maj': '2025-02-01T07:48:08+00:00'},\n",
      " {'gazole_maj': '2025-02-01T17:47:38+00:00'},\n",
      " {'gazole_maj': '2025-02-01T08:43:06+00:00'},\n",
      " {'gazole_maj': '2025-02-01T08:38:31+00:00'},\n",
      " {'gazole_maj': '2025-02-01T09:51:31+00:00'},\n",
      " {'gazole_maj': '2025-02-01T10:33:49+00:00'},\n",
      " {'gazole_maj': '2025-02-01T09:49:39+00:00'},\n",
      " {'gazole_maj': '2025-02-01T08:30:00+00:00'}]\n"
     ]
    }
   ],
   "source": [
    "#(SELECT) gazole_maj (WHERE) gazole_maj>\"2025-02-01T00:00:00Z\" and gazole_maj<\"2025-02-02T00:00:00Z\" &  limite=100\n",
    "# ?select=gazole_maj&where=gazole_maj%3E%222025-02-01T00%3A00%3A00Z%22%20and%20gazole_maj%3C%222025-02-02T00%3A00%3A00Z%22&limit=1000\n",
    "url = \"https://data.opendatasoft.com/api/explore/v2.1/catalog/datasets/prix-des-carburants-en-france-flux-instantane-v2@opendatamef/records?select=gazole_maj&where=gazole_maj%3E%222025-02-01T00%3A00%3A00Z%22%20and%20gazole_maj%3C%222025-02-02T00%3A00%3A00Z%22&limit=100\"\n",
    "\n",
    "request = requests.get(url)\n",
    "response = request.json()\n",
    "print(response['total_count'], \"existing values\")\n",
    "pprint(response['results'])"
   ]
  },
  {
   "cell_type": "code",
   "execution_count": null,
   "id": "917b0c7d-e0e0-4f6a-bc76-f4920bc3f89e",
   "metadata": {},
   "outputs": [],
   "source": []
  }
 ],
 "metadata": {
  "kernelspec": {
   "display_name": "Python 3.11 (python311)",
   "language": "python",
   "name": "python311"
  },
  "language_info": {
   "codemirror_mode": {
    "name": "ipython",
    "version": 3
   },
   "file_extension": ".py",
   "mimetype": "text/x-python",
   "name": "python",
   "nbconvert_exporter": "python",
   "pygments_lexer": "ipython3",
   "version": "3.11.10"
  }
 },
 "nbformat": 4,
 "nbformat_minor": 5
}
