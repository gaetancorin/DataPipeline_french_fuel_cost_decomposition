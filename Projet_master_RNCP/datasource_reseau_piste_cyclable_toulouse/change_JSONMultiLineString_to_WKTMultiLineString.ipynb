{
 "cells": [
  {
   "cell_type": "code",
   "execution_count": 1,
   "id": "9818b044-f4a9-4c05-a0aa-ee771a1e7354",
   "metadata": {},
   "outputs": [],
   "source": [
    "# pip install shapely"
   ]
  },
  {
   "cell_type": "code",
   "execution_count": 2,
   "id": "204e79cd-e012-493e-a53d-959d23c39cc5",
   "metadata": {},
   "outputs": [],
   "source": [
    "import pandas as pd\n",
    "from shapely.geometry import MultiLineString\n",
    "import json"
   ]
  },
  {
   "cell_type": "code",
   "execution_count": 3,
   "id": "69bcb447-3c04-41d8-ba33-535be496b2b6",
   "metadata": {},
   "outputs": [
    {
     "data": {
      "text/html": [
       "<div>\n",
       "<style scoped>\n",
       "    .dataframe tbody tr th:only-of-type {\n",
       "        vertical-align: middle;\n",
       "    }\n",
       "\n",
       "    .dataframe tbody tr th {\n",
       "        vertical-align: top;\n",
       "    }\n",
       "\n",
       "    .dataframe thead th {\n",
       "        text-align: right;\n",
       "    }\n",
       "</style>\n",
       "<table border=\"1\" class=\"dataframe\">\n",
       "  <thead>\n",
       "    <tr style=\"text-align: right;\">\n",
       "      <th></th>\n",
       "      <th>Geo Point</th>\n",
       "      <th>Geo Shape</th>\n",
       "      <th>code_insee</th>\n",
       "      <th>commune</th>\n",
       "      <th>pole</th>\n",
       "      <th>existant</th>\n",
       "      <th>hierarchisation</th>\n",
       "      <th>type_reseau</th>\n",
       "      <th>type_amenagement</th>\n",
       "      <th>longueur_m</th>\n",
       "      <th>annee_creation</th>\n",
       "      <th>annee_refection</th>\n",
       "      <th>num_rev</th>\n",
       "    </tr>\n",
       "  </thead>\n",
       "  <tbody>\n",
       "    <tr>\n",
       "      <th>0</th>\n",
       "      <td>43.589962184411974, 1.3765693378196833</td>\n",
       "      <td>{\"coordinates\": [[[1.376090767154925, 43.58992...</td>\n",
       "      <td>31557</td>\n",
       "      <td>Tournefeuille</td>\n",
       "      <td>Ouest</td>\n",
       "      <td>oui</td>\n",
       "      <td>1</td>\n",
       "      <td>RC</td>\n",
       "      <td>bande cyclable</td>\n",
       "      <td>77</td>\n",
       "      <td>2018</td>\n",
       "      <td>0</td>\n",
       "      <td>REV 8 Ouest</td>\n",
       "    </tr>\n",
       "    <tr>\n",
       "      <th>1</th>\n",
       "      <td>43.59162950730258, 1.3860463112630517</td>\n",
       "      <td>{\"coordinates\": [[[1.386696447056011, 43.59187...</td>\n",
       "      <td>31555</td>\n",
       "      <td>Toulouse</td>\n",
       "      <td>Ouest</td>\n",
       "      <td>oui</td>\n",
       "      <td>1</td>\n",
       "      <td>RC</td>\n",
       "      <td>bande cyclable</td>\n",
       "      <td>119</td>\n",
       "      <td>2018</td>\n",
       "      <td>0</td>\n",
       "      <td>REV 8 Ouest</td>\n",
       "    </tr>\n",
       "    <tr>\n",
       "      <th>2</th>\n",
       "      <td>43.54598327357576, 1.426955789267919</td>\n",
       "      <td>{\"coordinates\": [[[1.428671107109154, 43.54766...</td>\n",
       "      <td>31555</td>\n",
       "      <td>Toulouse</td>\n",
       "      <td>Sud</td>\n",
       "      <td>oui</td>\n",
       "      <td>2</td>\n",
       "      <td>RC</td>\n",
       "      <td>voie verte</td>\n",
       "      <td>536</td>\n",
       "      <td>2016</td>\n",
       "      <td>0</td>\n",
       "      <td>NaN</td>\n",
       "    </tr>\n",
       "  </tbody>\n",
       "</table>\n",
       "</div>"
      ],
      "text/plain": [
       "                                Geo Point  \\\n",
       "0  43.589962184411974, 1.3765693378196833   \n",
       "1   43.59162950730258, 1.3860463112630517   \n",
       "2    43.54598327357576, 1.426955789267919   \n",
       "\n",
       "                                           Geo Shape  code_insee  \\\n",
       "0  {\"coordinates\": [[[1.376090767154925, 43.58992...       31557   \n",
       "1  {\"coordinates\": [[[1.386696447056011, 43.59187...       31555   \n",
       "2  {\"coordinates\": [[[1.428671107109154, 43.54766...       31555   \n",
       "\n",
       "         commune   pole existant hierarchisation type_reseau type_amenagement  \\\n",
       "0  Tournefeuille  Ouest      oui               1          RC   bande cyclable   \n",
       "1       Toulouse  Ouest      oui               1          RC   bande cyclable   \n",
       "2       Toulouse    Sud      oui               2          RC       voie verte   \n",
       "\n",
       "   longueur_m  annee_creation  annee_refection      num_rev  \n",
       "0          77            2018                0  REV 8 Ouest  \n",
       "1         119            2018                0  REV 8 Ouest  \n",
       "2         536            2016                0          NaN  "
      ]
     },
     "execution_count": 3,
     "metadata": {},
     "output_type": "execute_result"
    }
   ],
   "source": [
    "df = pd.read_csv(\"reseau-cyclable-et-vert.csv\", delimiter=\";\")\n",
    "df.head(3)"
   ]
  },
  {
   "cell_type": "code",
   "execution_count": 4,
   "id": "6147aa54-2a15-4072-9f65-12c6cfdb2399",
   "metadata": {},
   "outputs": [
    {
     "name": "stdout",
     "output_type": "stream",
     "text": [
      "object 0       MULTILINESTRING((1.376090767154925 43.58992641...\n",
      "1       MULTILINESTRING((1.386696447056011 43.59187954...\n",
      "2       MULTILINESTRING((1.428671107109154 43.54766242...\n",
      "3       MULTILINESTRING((1.396499020254346 43.54455071...\n",
      "4       MULTILINESTRING((1.476645026292779 43.57866684...\n",
      "                              ...                        \n",
      "4588    MULTILINESTRING((1.332377798928711 43.61575125...\n",
      "4589    MULTILINESTRING((1.334437927124143 43.60462898...\n",
      "4590    MULTILINESTRING((1.451148913764817 43.65608685...\n",
      "4591    MULTILINESTRING((1.543768530150046 43.55672546...\n",
      "4592    MULTILINESTRING((1.325058881600071 43.58491941...\n",
      "Name: WKT, Length: 4593, dtype: object\n"
     ]
    }
   ],
   "source": [
    "df[\"Geo Shape\"] = df[\"Geo Shape\"].apply(json.loads)\n",
    "# print(df[\"WKT\"][0][\"coordinates\"])\n",
    "\n",
    "def geojson_to_wkt(geojson):\n",
    "        lines = []\n",
    "        for line in geojson[\"coordinates\"]:\n",
    "            lines.append(\", \".join(f\"{x[0]} {x[1]}\" for x in line))\n",
    "        return f\"MULTILINESTRING(({'),('.join(lines)}))\"\n",
    "\n",
    "# Appliquer la conversion sur la colonne GeoJSON\n",
    "df[\"WKT\"] = df[\"Geo Shape\"].apply(geojson_to_wkt)\n",
    "\n",
    "print(df[\"WKT\"].dtypes, df[\"WKT\"])"
   ]
  },
  {
   "cell_type": "code",
   "execution_count": 5,
   "id": "5aa6a146-35a2-4518-98bf-94795d2d3abd",
   "metadata": {},
   "outputs": [],
   "source": [
    "df = df.drop([\"Geo Shape\"], axis=1)\n",
    "df.to_csv(\"reseau-cyclable-et-vert_WKT.csv\", index=False)"
   ]
  },
  {
   "cell_type": "code",
   "execution_count": null,
   "id": "a2ea3881-0106-4654-8fd7-acac131058c7",
   "metadata": {},
   "outputs": [],
   "source": []
  }
 ],
 "metadata": {
  "kernelspec": {
   "display_name": "Python 3.11 (python311)",
   "language": "python",
   "name": "python311"
  },
  "language_info": {
   "codemirror_mode": {
    "name": "ipython",
    "version": 3
   },
   "file_extension": ".py",
   "mimetype": "text/x-python",
   "name": "python",
   "nbconvert_exporter": "python",
   "pygments_lexer": "ipython3",
   "version": "3.11.10"
  }
 },
 "nbformat": 4,
 "nbformat_minor": 5
}
