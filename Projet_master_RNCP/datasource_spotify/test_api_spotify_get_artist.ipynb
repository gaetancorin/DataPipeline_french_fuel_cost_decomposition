{
 "cells": [
  {
   "cell_type": "code",
   "execution_count": 1,
   "id": "52b21651-eac4-4513-8657-86bc277f59c4",
   "metadata": {},
   "outputs": [
    {
     "name": "stdout",
     "output_type": "stream",
     "text": [
      "token =  BQBfUZNWelKGBwmzacsAVX8oOnWbSn9e53vW4Xdr5AjjwbJ9GnYRYWyQKrIYmUxBiTxmHQQFZMmeK6lEGLEi_tFbx8I9xHM8RM-slc0nzYGFznTVsXPqXyNJ1jfHDCtInMMh4DhD3ZU\n"
     ]
    }
   ],
   "source": [
    "import requests\n",
    "import json\n",
    "import base64\n",
    "from pprint import pprint\n",
    "\n",
    "CLIENT_ID = \"545a09c271a44747ad930fdc7a2d27ab\"\n",
    "CLIENT_SECRET = \"d96d8d9d87ae46b6b0566dd96f3378ae\"\n",
    "\n",
    "def get_token():\n",
    "    auth_string = CLIENT_ID + \":\" + CLIENT_SECRET \n",
    "    auth_bytes = auth_string.encode(\"utf-8\")\n",
    "    auth_base64 = str(base64.b64encode(auth_bytes),\"utf-8\" )\n",
    "    url= \"https://accounts.spotify.com/api/token\"\n",
    "    \n",
    "    headers = {\n",
    "    \"Authorization\": \"Basic \" + auth_base64,\n",
    "    \"Content-Type\": \"application/x-www-form-urlencoded\" \n",
    "    }\n",
    "    data = {\"grant_type\": \"client_credentials\"}\n",
    "    result = requests.post(url, headers=headers,data=data)\n",
    "    json_result = json.loads(result.content) \n",
    "    token= json_result[\"access_token\"]\n",
    "    print(\"token = \", token)\n",
    "    return token\n",
    "\n",
    "\n",
    "def get_auth_token(token):\n",
    "    return {\"Authorization\": \"Bearer \" + token}\n",
    "\n",
    "token = get_token()"
   ]
  },
  {
   "cell_type": "code",
   "execution_count": 4,
   "id": "739f3abf-8c16-4223-9a73-0d287ab6dcb3",
   "metadata": {},
   "outputs": [
    {
     "name": "stdout",
     "output_type": "stream",
     "text": [
      "{'artists': {'href': 'https://api.spotify.com/v1/search?offset=0&limit=1&query=tupac&type=artist',\n",
      "             'items': [{'external_urls': {'spotify': 'https://open.spotify.com/artist/1ZwdS5xdxEREPySFridCfh'},\n",
      "                        'followers': {'href': None, 'total': 20617725},\n",
      "                        'genres': ['gangster rap',\n",
      "                                   'west coast hip hop',\n",
      "                                   'g-funk',\n",
      "                                   'hip hop'],\n",
      "                        'href': 'https://api.spotify.com/v1/artists/1ZwdS5xdxEREPySFridCfh',\n",
      "                        'id': '1ZwdS5xdxEREPySFridCfh',\n",
      "                        'images': [{'height': 640,\n",
      "                                    'url': 'https://i.scdn.co/image/ab6761610000e5eb7f5cc432c9c109248ebec1ac',\n",
      "                                    'width': 640},\n",
      "                                   {'height': 320,\n",
      "                                    'url': 'https://i.scdn.co/image/ab676161000051747f5cc432c9c109248ebec1ac',\n",
      "                                    'width': 320},\n",
      "                                   {'height': 160,\n",
      "                                    'url': 'https://i.scdn.co/image/ab6761610000f1787f5cc432c9c109248ebec1ac',\n",
      "                                    'width': 160}],\n",
      "                        'name': '2Pac',\n",
      "                        'popularity': 79,\n",
      "                        'type': 'artist',\n",
      "                        'uri': 'spotify:artist:1ZwdS5xdxEREPySFridCfh'}],\n",
      "             'limit': 1,\n",
      "             'next': 'https://api.spotify.com/v1/search?offset=1&limit=1&query=tupac&type=artist',\n",
      "             'offset': 0,\n",
      "             'previous': None,\n",
      "             'total': 100}}\n"
     ]
    }
   ],
   "source": [
    "def search_artist(token,artist_name):\n",
    "    url = \"https://api.spotify.com/v1/search\"\n",
    "    headers = get_auth_token(token)\n",
    "    query = f\"?q={artist_name}&type=artist&limit=1\"\n",
    "    query_url = url + query \n",
    "    result = requests.get(query_url,headers=headers)\n",
    "    json_result = json.loads(result.content)\n",
    "    # print(json_result)\n",
    "    pprint(json_result)\n",
    "\n",
    "search_artist(token,\"tupac\" )"
   ]
  },
  {
   "cell_type": "code",
   "execution_count": null,
   "id": "405acc2b-366d-4fd2-819e-903b5b77c93a",
   "metadata": {},
   "outputs": [],
   "source": []
  }
 ],
 "metadata": {
  "kernelspec": {
   "display_name": "Python 3.11 (python311)",
   "language": "python",
   "name": "python311"
  },
  "language_info": {
   "codemirror_mode": {
    "name": "ipython",
    "version": 3
   },
   "file_extension": ".py",
   "mimetype": "text/x-python",
   "name": "python",
   "nbconvert_exporter": "python",
   "pygments_lexer": "ipython3",
   "version": "3.11.10"
  }
 },
 "nbformat": 4,
 "nbformat_minor": 5
}
