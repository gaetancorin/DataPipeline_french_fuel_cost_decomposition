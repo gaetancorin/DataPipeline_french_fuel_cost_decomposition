{
 "cells": [
  {
   "cell_type": "code",
   "execution_count": 1,
   "id": "52b21651-eac4-4513-8657-86bc277f59c4",
   "metadata": {},
   "outputs": [
    {
     "ename": "KeyError",
     "evalue": "'access_token'",
     "output_type": "error",
     "traceback": [
      "\u001b[1;31m---------------------------------------------------------------------------\u001b[0m",
      "\u001b[1;31mKeyError\u001b[0m                                  Traceback (most recent call last)",
      "Cell \u001b[1;32mIn[1], line 31\u001b[0m\n\u001b[0;32m     28\u001b[0m \u001b[38;5;28;01mdef\u001b[39;00m \u001b[38;5;21mget_auth_token\u001b[39m(token):\n\u001b[0;32m     29\u001b[0m     \u001b[38;5;28;01mreturn\u001b[39;00m {\u001b[38;5;124m\"\u001b[39m\u001b[38;5;124mAuthorization\u001b[39m\u001b[38;5;124m\"\u001b[39m: \u001b[38;5;124m\"\u001b[39m\u001b[38;5;124mBearer \u001b[39m\u001b[38;5;124m\"\u001b[39m \u001b[38;5;241m+\u001b[39m token}\n\u001b[1;32m---> 31\u001b[0m token \u001b[38;5;241m=\u001b[39m get_token()\n",
      "Cell \u001b[1;32mIn[1], line 23\u001b[0m, in \u001b[0;36mget_token\u001b[1;34m()\u001b[0m\n\u001b[0;32m     21\u001b[0m result \u001b[38;5;241m=\u001b[39m requests\u001b[38;5;241m.\u001b[39mpost(url, headers\u001b[38;5;241m=\u001b[39mheaders,data\u001b[38;5;241m=\u001b[39mdata)\n\u001b[0;32m     22\u001b[0m json_result \u001b[38;5;241m=\u001b[39m json\u001b[38;5;241m.\u001b[39mloads(result\u001b[38;5;241m.\u001b[39mcontent) \n\u001b[1;32m---> 23\u001b[0m token\u001b[38;5;241m=\u001b[39m json_result[\u001b[38;5;124m\"\u001b[39m\u001b[38;5;124maccess_token\u001b[39m\u001b[38;5;124m\"\u001b[39m]\n\u001b[0;32m     24\u001b[0m \u001b[38;5;28mprint\u001b[39m(\u001b[38;5;124m\"\u001b[39m\u001b[38;5;124mtoken = \u001b[39m\u001b[38;5;124m\"\u001b[39m, token)\n\u001b[0;32m     25\u001b[0m \u001b[38;5;28;01mreturn\u001b[39;00m token\n",
      "\u001b[1;31mKeyError\u001b[0m: 'access_token'"
     ]
    }
   ],
   "source": [
    "import requests\n",
    "import json\n",
    "import base64\n",
    "from pprint import pprint\n",
    "\n",
    "# client secret at https://developer.spotify.com/dashboard\n",
    "CLIENT_ID = \"545a09c271a44747ad930fdc7a2d27ab\"\n",
    "CLIENT_SECRET = \"XXXXXXXXXXXXXXXXXXXXXXX\"\n",
    "\n",
    "def get_token():\n",
    "    auth_string = CLIENT_ID + \":\" + CLIENT_SECRET \n",
    "    auth_bytes = auth_string.encode(\"utf-8\")\n",
    "    auth_base64 = str(base64.b64encode(auth_bytes),\"utf-8\" )\n",
    "    url= \"https://accounts.spotify.com/api/token\"\n",
    "    \n",
    "    headers = {\n",
    "    \"Authorization\": \"Basic \" + auth_base64,\n",
    "    \"Content-Type\": \"application/x-www-form-urlencoded\" \n",
    "    }\n",
    "    data = {\"grant_type\": \"client_credentials\"}\n",
    "    result = requests.post(url, headers=headers,data=data)\n",
    "    json_result = json.loads(result.content) \n",
    "    token= json_result[\"access_token\"]\n",
    "    print(\"token = \", token)\n",
    "    return token\n",
    "\n",
    "\n",
    "def get_auth_token(token):\n",
    "    return {\"Authorization\": \"Bearer \" + token}\n",
    "\n",
    "token = get_token()"
   ]
  },
  {
   "cell_type": "code",
   "execution_count": null,
   "id": "739f3abf-8c16-4223-9a73-0d287ab6dcb3",
   "metadata": {},
   "outputs": [],
   "source": [
    "def search_artist(token,artist_name):\n",
    "    url = \"https://api.spotify.com/v1/search\"\n",
    "    headers = get_auth_token(token)\n",
    "    query = f\"?q={artist_name}&type=artist&limit=1\"\n",
    "    query_url = url + query \n",
    "    result = requests.get(query_url,headers=headers)\n",
    "    json_result = json.loads(result.content)\n",
    "    # print(json_result)\n",
    "    pprint(json_result)\n",
    "\n",
    "search_artist(token,\"tupac\" )"
   ]
  },
  {
   "cell_type": "code",
   "execution_count": null,
   "id": "405acc2b-366d-4fd2-819e-903b5b77c93a",
   "metadata": {},
   "outputs": [],
   "source": []
  }
 ],
 "metadata": {
  "kernelspec": {
   "display_name": "Python 3.11 (python311)",
   "language": "python",
   "name": "python311"
  },
  "language_info": {
   "codemirror_mode": {
    "name": "ipython",
    "version": 3
   },
   "file_extension": ".py",
   "mimetype": "text/x-python",
   "name": "python",
   "nbconvert_exporter": "python",
   "pygments_lexer": "ipython3",
   "version": "3.11.10"
  }
 },
 "nbformat": 4,
 "nbformat_minor": 5
}
